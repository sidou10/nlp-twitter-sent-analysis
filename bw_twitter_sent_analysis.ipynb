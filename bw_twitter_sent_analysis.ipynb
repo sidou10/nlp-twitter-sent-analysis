{
 "cells": [
  {
   "cell_type": "markdown",
   "metadata": {},
   "source": [
    "# Sentiment analysis on Tweets\n",
    "The following problem is a supervised multi-class classification problem of sentiment analysis. We will go through all the main steps of such a problem, summarized in the following table of contents:"
   ]
  },
  {
   "cell_type": "markdown",
   "metadata": {
    "toc": true
   },
   "source": [
    "<h1>Table of Contents<span class=\"tocSkip\"></span></h1>\n",
    "<div class=\"toc\"><ul class=\"toc-item\"><li><span><a href=\"#Preprocessing\" data-toc-modified-id=\"Preprocessing-1\"><span class=\"toc-item-num\">1&nbsp;&nbsp;</span>Preprocessing</a></span></li><li><span><a href=\"#Data-Exploration\" data-toc-modified-id=\"Data-Exploration-2\"><span class=\"toc-item-num\">2&nbsp;&nbsp;</span>Data Exploration</a></span><ul class=\"toc-item\"><li><span><a href=\"#Some-statistics-on-the-dataset\" data-toc-modified-id=\"Some-statistics-on-the-dataset-2.1\"><span class=\"toc-item-num\">2.1&nbsp;&nbsp;</span>Some statistics on the dataset</a></span></li><li><span><a href=\"#Sentiment-target-variable-analysis\" data-toc-modified-id=\"Sentiment-target-variable-analysis-2.2\"><span class=\"toc-item-num\">2.2&nbsp;&nbsp;</span>Sentiment target variable analysis</a></span></li></ul></li><li><span><a href=\"#Feature-engineering\" data-toc-modified-id=\"Feature-engineering-3\"><span class=\"toc-item-num\">3&nbsp;&nbsp;</span>Feature engineering</a></span><ul class=\"toc-item\"><li><span><a href=\"#Number-of-words\" data-toc-modified-id=\"Number-of-words-3.1\"><span class=\"toc-item-num\">3.1&nbsp;&nbsp;</span>Number of words</a></span></li><li><span><a href=\"#Counting-punctuation-(?!.)\" data-toc-modified-id=\"Counting-punctuation-(?!.)-3.2\"><span class=\"toc-item-num\">3.2&nbsp;&nbsp;</span>Counting punctuation (?!.)</a></span></li><li><span><a href=\"#Emoticons\" data-toc-modified-id=\"Emoticons-3.3\"><span class=\"toc-item-num\">3.3&nbsp;&nbsp;</span>Emoticons</a></span></li><li><span><a href=\"#Negation-words\" data-toc-modified-id=\"Negation-words-3.4\"><span class=\"toc-item-num\">3.4&nbsp;&nbsp;</span>Negation words</a></span></li><li><span><a href=\"#Sentiment-words\" data-toc-modified-id=\"Sentiment-words-3.5\"><span class=\"toc-item-num\">3.5&nbsp;&nbsp;</span>Sentiment words</a></span></li><li><span><a href=\"#Tweet2Vec\" data-toc-modified-id=\"Tweet2Vec-3.6\"><span class=\"toc-item-num\">3.6&nbsp;&nbsp;</span>Tweet2Vec</a></span></li></ul></li><li><span><a href=\"#Models\" data-toc-modified-id=\"Models-4\"><span class=\"toc-item-num\">4&nbsp;&nbsp;</span>Models</a></span><ul class=\"toc-item\"><li><span><a href=\"#Stratified-k-folds\" data-toc-modified-id=\"Stratified-k-folds-4.1\"><span class=\"toc-item-num\">4.1&nbsp;&nbsp;</span>Stratified k-folds</a></span></li><li><span><a href=\"#Baseline-models\" data-toc-modified-id=\"Baseline-models-4.2\"><span class=\"toc-item-num\">4.2&nbsp;&nbsp;</span>Baseline models</a></span><ul class=\"toc-item\"><li><span><a href=\"#Always-predicting-Neutral\" data-toc-modified-id=\"Always-predicting-Neutral-4.2.1\"><span class=\"toc-item-num\">4.2.1&nbsp;&nbsp;</span>Always predicting Neutral</a></span></li><li><span><a href=\"#Predicting-randomly-following-the-distribution-of-data\" data-toc-modified-id=\"Predicting-randomly-following-the-distribution-of-data-4.2.2\"><span class=\"toc-item-num\">4.2.2&nbsp;&nbsp;</span>Predicting randomly following the distribution of data</a></span></li></ul></li><li><span><a href=\"#Random-Forest\" data-toc-modified-id=\"Random-Forest-4.3\"><span class=\"toc-item-num\">4.3&nbsp;&nbsp;</span>Random Forest</a></span><ul class=\"toc-item\"><li><span><a href=\"#Without-Tweet2Vec-features\" data-toc-modified-id=\"Without-Tweet2Vec-features-4.3.1\"><span class=\"toc-item-num\">4.3.1&nbsp;&nbsp;</span>Without Tweet2Vec features</a></span></li><li><span><a href=\"#With-Tweet2Vec-features\" data-toc-modified-id=\"With-Tweet2Vec-features-4.3.2\"><span class=\"toc-item-num\">4.3.2&nbsp;&nbsp;</span>With Tweet2Vec features</a></span></li></ul></li><li><span><a href=\"#Neural-Network\" data-toc-modified-id=\"Neural-Network-4.4\"><span class=\"toc-item-num\">4.4&nbsp;&nbsp;</span>Neural Network</a></span></li></ul></li><li><span><a href=\"#Next-steps\" data-toc-modified-id=\"Next-steps-5\"><span class=\"toc-item-num\">5&nbsp;&nbsp;</span>Next steps</a></span></li></ul></div>"
   ]
  },
  {
   "cell_type": "code",
   "execution_count": 116,
   "metadata": {
    "scrolled": true
   },
   "outputs": [
    {
     "name": "stdout",
     "output_type": "stream",
     "text": [
      "The autoreload extension is already loaded. To reload it, use:\n",
      "  %reload_ext autoreload\n"
     ]
    }
   ],
   "source": [
    "%load_ext autoreload\n",
    "%autoreload 2\n",
    "%matplotlib inline"
   ]
  },
  {
   "cell_type": "code",
   "execution_count": 335,
   "metadata": {
    "collapsed": true,
    "scrolled": true
   },
   "outputs": [],
   "source": [
    "import matplotlib.pyplot as plt\n",
    "import seaborn as sns\n",
    "import pandas as pd\n",
    "import numpy as np\n",
    "import html\n",
    "import os\n",
    "import re\n",
    "\n",
    "# Check attached .py files for more details\n",
    "from emoticons import HAPPY, SAD, NEGATION\n",
    "from utils import detect_lang, count_emoticons, pos_score, neg_score, check_error,\\\n",
    "                                        accuracy_score_per_class\n",
    "\n",
    "from sklearn.feature_extraction.text import TfidfVectorizer\n",
    "from sklearn.ensemble import RandomForestClassifier, GradientBoostingClassifier\n",
    "from sklearn.metrics import accuracy_score, precision_score,\\\n",
    "                recall_score, zero_one_loss, confusion_matrix, make_scorer\n",
    "from sklearn.model_selection import StratifiedKFold, cross_val_score\n",
    "\n",
    "from nltk.corpus import stopwords\n",
    "from nltk.stem.porter import PorterStemmer\n",
    "from nltk.tokenize import TweetTokenizer\n",
    "from nltk.corpus import stopwords\n",
    "\n",
    "from keras import Sequential\n",
    "from keras.layers import Dense, Dropout, BatchNormalization\n",
    "from keras.utils.np_utils import to_categorical\n",
    "\n",
    "import gensim"
   ]
  },
  {
   "cell_type": "code",
   "execution_count": 238,
   "metadata": {
    "collapsed": true,
    "scrolled": true
   },
   "outputs": [],
   "source": [
    "# Load the data\n",
    "data = pd.read_csv(\"data/text_emotion_w_features.csv\")"
   ]
  },
  {
   "cell_type": "code",
   "execution_count": 239,
   "metadata": {
    "scrolled": true
   },
   "outputs": [
    {
     "data": {
      "text/plain": [
       "(40000, 23)"
      ]
     },
     "execution_count": 239,
     "metadata": {},
     "output_type": "execute_result"
    }
   ],
   "source": [
    "# (#rows, #columns)\n",
    "data.shape"
   ]
  },
  {
   "cell_type": "code",
   "execution_count": 240,
   "metadata": {
    "scrolled": true
   },
   "outputs": [
    {
     "data": {
      "text/html": [
       "<div>\n",
       "<style>\n",
       "    .dataframe thead tr:only-child th {\n",
       "        text-align: right;\n",
       "    }\n",
       "\n",
       "    .dataframe thead th {\n",
       "        text-align: left;\n",
       "    }\n",
       "\n",
       "    .dataframe tbody tr th {\n",
       "        vertical-align: top;\n",
       "    }\n",
       "</style>\n",
       "<table border=\"1\" class=\"dataframe\">\n",
       "  <thead>\n",
       "    <tr style=\"text-align: right;\">\n",
       "      <th></th>\n",
       "      <th>Unnamed: 0</th>\n",
       "      <th>Unnamed: 0.1</th>\n",
       "      <th>tweet_id</th>\n",
       "      <th>sentiment</th>\n",
       "      <th>author</th>\n",
       "      <th>content</th>\n",
       "      <th>clean_content</th>\n",
       "      <th>lang</th>\n",
       "      <th>tknzd_tweet</th>\n",
       "      <th>length</th>\n",
       "      <th>...</th>\n",
       "      <th>nb_quest_marks</th>\n",
       "      <th>nb_emo_&lt;3</th>\n",
       "      <th>nb_emo_;)</th>\n",
       "      <th>nb_happy_emot</th>\n",
       "      <th>nb_sad_emot</th>\n",
       "      <th>nb_negation</th>\n",
       "      <th>pos_score</th>\n",
       "      <th>neg_score</th>\n",
       "      <th>pos_score_rel</th>\n",
       "      <th>neg_score_rel</th>\n",
       "    </tr>\n",
       "  </thead>\n",
       "  <tbody>\n",
       "    <tr>\n",
       "      <th>0</th>\n",
       "      <td>0</td>\n",
       "      <td>0</td>\n",
       "      <td>1956967341</td>\n",
       "      <td>empty</td>\n",
       "      <td>xoshayzers</td>\n",
       "      <td>@tiffanylue i know  i was listenin to bad habi...</td>\n",
       "      <td>@tiffanylue i know  i was listenin to bad habi...</td>\n",
       "      <td>en</td>\n",
       "      <td>['@tiffanylue', 'i', 'know', 'i', 'was', 'list...</td>\n",
       "      <td>92</td>\n",
       "      <td>...</td>\n",
       "      <td>0</td>\n",
       "      <td>0</td>\n",
       "      <td>0</td>\n",
       "      <td>0</td>\n",
       "      <td>0</td>\n",
       "      <td>1</td>\n",
       "      <td>0.457983</td>\n",
       "      <td>1.616071</td>\n",
       "      <td>0.025444</td>\n",
       "      <td>0.089782</td>\n",
       "    </tr>\n",
       "    <tr>\n",
       "      <th>1</th>\n",
       "      <td>1</td>\n",
       "      <td>1</td>\n",
       "      <td>1956967666</td>\n",
       "      <td>sadness</td>\n",
       "      <td>wannamama</td>\n",
       "      <td>Layin n bed with a headache  ughhhh...waitin o...</td>\n",
       "      <td>layin n bed with a headache  ughhhh...waitin o...</td>\n",
       "      <td>en</td>\n",
       "      <td>['layin', 'n', 'bed', 'with', 'a', 'headache',...</td>\n",
       "      <td>60</td>\n",
       "      <td>...</td>\n",
       "      <td>0</td>\n",
       "      <td>0</td>\n",
       "      <td>0</td>\n",
       "      <td>0</td>\n",
       "      <td>0</td>\n",
       "      <td>0</td>\n",
       "      <td>0.953125</td>\n",
       "      <td>0.437500</td>\n",
       "      <td>0.073317</td>\n",
       "      <td>0.033654</td>\n",
       "    </tr>\n",
       "    <tr>\n",
       "      <th>2</th>\n",
       "      <td>2</td>\n",
       "      <td>2</td>\n",
       "      <td>1956967696</td>\n",
       "      <td>sadness</td>\n",
       "      <td>coolfunky</td>\n",
       "      <td>Funeral ceremony...gloomy friday...</td>\n",
       "      <td>funeral ceremony...gloomy friday...</td>\n",
       "      <td>en</td>\n",
       "      <td>['funeral', 'ceremony', '...', 'gloomy', 'frid...</td>\n",
       "      <td>35</td>\n",
       "      <td>...</td>\n",
       "      <td>0</td>\n",
       "      <td>0</td>\n",
       "      <td>0</td>\n",
       "      <td>0</td>\n",
       "      <td>0</td>\n",
       "      <td>0</td>\n",
       "      <td>0.500000</td>\n",
       "      <td>0.541667</td>\n",
       "      <td>0.083333</td>\n",
       "      <td>0.090278</td>\n",
       "    </tr>\n",
       "    <tr>\n",
       "      <th>3</th>\n",
       "      <td>3</td>\n",
       "      <td>3</td>\n",
       "      <td>1956967789</td>\n",
       "      <td>enthusiasm</td>\n",
       "      <td>czareaquino</td>\n",
       "      <td>wants to hang out with friends SOON!</td>\n",
       "      <td>wants to hang out with friends soon!</td>\n",
       "      <td>en</td>\n",
       "      <td>['wants', 'to', 'hang', 'out', 'with', 'friend...</td>\n",
       "      <td>36</td>\n",
       "      <td>...</td>\n",
       "      <td>0</td>\n",
       "      <td>0</td>\n",
       "      <td>0</td>\n",
       "      <td>0</td>\n",
       "      <td>0</td>\n",
       "      <td>0</td>\n",
       "      <td>0.062500</td>\n",
       "      <td>0.600000</td>\n",
       "      <td>0.007812</td>\n",
       "      <td>0.075000</td>\n",
       "    </tr>\n",
       "    <tr>\n",
       "      <th>4</th>\n",
       "      <td>4</td>\n",
       "      <td>4</td>\n",
       "      <td>1956968416</td>\n",
       "      <td>neutral</td>\n",
       "      <td>xkilljoyx</td>\n",
       "      <td>@dannycastillo We want to trade with someone w...</td>\n",
       "      <td>@dannycastillo we want to trade with someone w...</td>\n",
       "      <td>en</td>\n",
       "      <td>['@dannycastillo', 'we', 'want', 'to', 'trade'...</td>\n",
       "      <td>86</td>\n",
       "      <td>...</td>\n",
       "      <td>0</td>\n",
       "      <td>0</td>\n",
       "      <td>0</td>\n",
       "      <td>0</td>\n",
       "      <td>0</td>\n",
       "      <td>1</td>\n",
       "      <td>0.865179</td>\n",
       "      <td>0.777679</td>\n",
       "      <td>0.050893</td>\n",
       "      <td>0.045746</td>\n",
       "    </tr>\n",
       "  </tbody>\n",
       "</table>\n",
       "<p>5 rows × 23 columns</p>\n",
       "</div>"
      ],
      "text/plain": [
       "   Unnamed: 0  Unnamed: 0.1    tweet_id   sentiment       author  \\\n",
       "0           0             0  1956967341       empty   xoshayzers   \n",
       "1           1             1  1956967666     sadness    wannamama   \n",
       "2           2             2  1956967696     sadness    coolfunky   \n",
       "3           3             3  1956967789  enthusiasm  czareaquino   \n",
       "4           4             4  1956968416     neutral    xkilljoyx   \n",
       "\n",
       "                                             content  \\\n",
       "0  @tiffanylue i know  i was listenin to bad habi...   \n",
       "1  Layin n bed with a headache  ughhhh...waitin o...   \n",
       "2                Funeral ceremony...gloomy friday...   \n",
       "3               wants to hang out with friends SOON!   \n",
       "4  @dannycastillo We want to trade with someone w...   \n",
       "\n",
       "                                       clean_content lang  \\\n",
       "0  @tiffanylue i know  i was listenin to bad habi...   en   \n",
       "1  layin n bed with a headache  ughhhh...waitin o...   en   \n",
       "2                funeral ceremony...gloomy friday...   en   \n",
       "3               wants to hang out with friends soon!   en   \n",
       "4  @dannycastillo we want to trade with someone w...   en   \n",
       "\n",
       "                                         tknzd_tweet  length      ...        \\\n",
       "0  ['@tiffanylue', 'i', 'know', 'i', 'was', 'list...      92      ...         \n",
       "1  ['layin', 'n', 'bed', 'with', 'a', 'headache',...      60      ...         \n",
       "2  ['funeral', 'ceremony', '...', 'gloomy', 'frid...      35      ...         \n",
       "3  ['wants', 'to', 'hang', 'out', 'with', 'friend...      36      ...         \n",
       "4  ['@dannycastillo', 'we', 'want', 'to', 'trade'...      86      ...         \n",
       "\n",
       "   nb_quest_marks  nb_emo_<3  nb_emo_;)  nb_happy_emot  nb_sad_emot  \\\n",
       "0               0          0          0              0            0   \n",
       "1               0          0          0              0            0   \n",
       "2               0          0          0              0            0   \n",
       "3               0          0          0              0            0   \n",
       "4               0          0          0              0            0   \n",
       "\n",
       "   nb_negation  pos_score  neg_score  pos_score_rel  neg_score_rel  \n",
       "0            1   0.457983   1.616071       0.025444       0.089782  \n",
       "1            0   0.953125   0.437500       0.073317       0.033654  \n",
       "2            0   0.500000   0.541667       0.083333       0.090278  \n",
       "3            0   0.062500   0.600000       0.007812       0.075000  \n",
       "4            1   0.865179   0.777679       0.050893       0.045746  \n",
       "\n",
       "[5 rows x 23 columns]"
      ]
     },
     "execution_count": 240,
     "metadata": {},
     "output_type": "execute_result"
    }
   ],
   "source": [
    "# Visualize first rows\n",
    "data.head()"
   ]
  },
  {
   "cell_type": "markdown",
   "metadata": {},
   "source": [
    "## Preprocessing\n",
    "In this part, we will preprocess the \"content\" column by **correcting/removing** some escape characters. Also, we will tokenize our tweets. In the Twitter context, a smart **tokenization** is required: we want to keep the emoticons and adapt to the Twitter \"slang\". Finally, we will remove **stopwords** and perform basic **stemming** on our set."
   ]
  },
  {
   "cell_type": "code",
   "execution_count": 245,
   "metadata": {
    "collapsed": true,
    "scrolled": true
   },
   "outputs": [],
   "source": [
    "# Clean content column (&amp; => & | &quot; => ') and removing \"ï¿½\"\n",
    "data[\"clean_content\"] = data[\"content\"].map(lambda tweet: html.unescape(tweet).replace(\"ï¿½\", \"\").lower())"
   ]
  },
  {
   "cell_type": "code",
   "execution_count": 246,
   "metadata": {
    "collapsed": true,
    "scrolled": true
   },
   "outputs": [],
   "source": [
    "# Tokenization\n",
    "tweet_tknzr = TweetTokenizer()\n",
    "data[\"tknzd_tweet\"] = data[\"clean_content\"].map(lambda tweet: tweet_tknzr.tokenize(tweet))"
   ]
  },
  {
   "cell_type": "code",
   "execution_count": 247,
   "metadata": {
    "collapsed": true
   },
   "outputs": [],
   "source": [
    "# Removing stopwords\n",
    "stop_words = stopwords.words('english')\n",
    "data[\"tknzd_tweet_wo_sw\"] = data[\"tknzd_tweet\"].map(lambda tknzd_tweet: [word for word in tknzd_tweet if word not in stop_words])"
   ]
  },
  {
   "cell_type": "code",
   "execution_count": 248,
   "metadata": {
    "collapsed": true
   },
   "outputs": [],
   "source": [
    "# Stemming\n",
    "ps_stemmer = PorterStemmer()\n",
    "data[\"stmd_tweet\"] = data[\"tknzd_tweet_wo_sw\"].map(lambda tknzd_tweet: [ps_stemmer.stem(word) for word in tknzd_tweet])"
   ]
  },
  {
   "cell_type": "markdown",
   "metadata": {},
   "source": [
    "## Data Exploration"
   ]
  },
  {
   "cell_type": "markdown",
   "metadata": {},
   "source": [
    "### Some statistics on the dataset"
   ]
  },
  {
   "cell_type": "code",
   "execution_count": 249,
   "metadata": {
    "collapsed": true,
    "scrolled": true
   },
   "outputs": [],
   "source": [
    "sentiments = data.sentiment.unique()\n",
    "authors = data.author.unique()"
   ]
  },
  {
   "cell_type": "code",
   "execution_count": 250,
   "metadata": {
    "scrolled": true
   },
   "outputs": [
    {
     "name": "stdout",
     "output_type": "stream",
     "text": [
      "There are 40000 tweets, written by 33871 authors, and expressing 13 different sentiments.\n",
      "The average # of tweets per author is: 1.18\n"
     ]
    }
   ],
   "source": [
    "# Number of tweets, unique sentiments, and unique authors\n",
    "nb_tweets = data.shape[0]\n",
    "nb_sentiments = sentiments.shape[0]\n",
    "nb_authors = authors.shape[0]\n",
    "\n",
    "print(\"There are {0} tweets, written by {1} authors, and expressing {2} different \\\n",
    "sentiments.\".format(nb_tweets, nb_authors, nb_sentiments))\n",
    "print(\"The average # of tweets per author is: {:.2f}\".format(nb_tweets/nb_authors))"
   ]
  },
  {
   "cell_type": "markdown",
   "metadata": {},
   "source": [
    "A feature **idea** would have been to create **dummy variables** for each author: some authors may have the tendancy to express twits in a particular sentiment register. Here, the **number of authors** is **too high** and the **#tweets/author too low** for it to be a useful variable."
   ]
  },
  {
   "cell_type": "code",
   "execution_count": 251,
   "metadata": {
    "collapsed": true,
    "scrolled": true
   },
   "outputs": [],
   "source": [
    "# Compute language of each tweet\n",
    "if \"lang\" not in data.columns:\n",
    "    data[\"lang\"] = data[\"clean_content\"].map(lambda tweet: detect_lang(tweet))"
   ]
  },
  {
   "cell_type": "code",
   "execution_count": 252,
   "metadata": {
    "scrolled": true
   },
   "outputs": [
    {
     "data": {
      "text/plain": [
       "<matplotlib.axes._subplots.AxesSubplot at 0x1a27343828>"
      ]
     },
     "execution_count": 252,
     "metadata": {},
     "output_type": "execute_result"
    },
    {
     "data": {
      "image/png": "[encoded data removed]",
      "text/plain": [
       "<matplotlib.figure.Figure at 0x1a2734bc18>"
      ]
     },
     "metadata": {},
     "output_type": "display_data"
    }
   ],
   "source": [
    "# Number of tweets per language\n",
    "nb_tweets_per_sentiment = data.groupby(\"lang\").count()[\"tweet_id\"].sort_values()\n",
    "nb_tweets_per_sentiment.plot(kind=\"bar\", title=\"Number of tweets per language\")"
   ]
  },
  {
   "cell_type": "markdown",
   "metadata": {},
   "source": [
    "Seeing these numbers and for simplification, we will then consider in the following that **all tweets are in English**."
   ]
  },
  {
   "cell_type": "code",
   "execution_count": 253,
   "metadata": {
    "scrolled": true
   },
   "outputs": [
    {
     "name": "stdout",
     "output_type": "stream",
     "text": [
      "Length: min=1, max=138, avg=72.98\n"
     ]
    },
    {
     "data": {
      "text/plain": [
       "<matplotlib.axes._subplots.AxesSubplot at 0x1c50b7acc0>"
      ]
     },
     "execution_count": 253,
     "metadata": {},
     "output_type": "execute_result"
    },
    {
     "data": {
      "image/png": "[encoded data removed]",
      "text/plain": [
       "<matplotlib.figure.Figure at 0x1c5b315c18>"
      ]
     },
     "metadata": {},
     "output_type": "display_data"
    }
   ],
   "source": [
    "# Analysis of th length of tweets\n",
    "data[\"length\"] = data[\"clean_content\"].map(lambda tweet: len(tweet))\n",
    "max_length = data.length.max()\n",
    "min_length = data.length.min()\n",
    "avg_length = data.length.mean()\n",
    "print(\"Length: min={0}, max={1}, avg={2:.2f}\".format(min_length, max_length, avg_length))\n",
    "\n",
    "data.length.hist()"
   ]
  },
  {
   "cell_type": "markdown",
   "metadata": {},
   "source": [
    "###  Sentiment target variable analysis"
   ]
  },
  {
   "cell_type": "code",
   "execution_count": 254,
   "metadata": {
    "scrolled": true
   },
   "outputs": [
    {
     "name": "stdout",
     "output_type": "stream",
     "text": [
      "List of possible sentiments:\n",
      "['empty' 'sadness' 'enthusiasm' 'neutral' 'worry' 'surprise' 'love' 'fun'\n",
      " 'hate' 'happiness' 'boredom' 'relief' 'anger']\n"
     ]
    }
   ],
   "source": [
    "# List of possible sentiments\n",
    "print(\"List of possible sentiments:\\n{}\".format(sentiments))"
   ]
  },
  {
   "cell_type": "code",
   "execution_count": 255,
   "metadata": {
    "scrolled": true
   },
   "outputs": [
    {
     "data": {
      "text/plain": [
       "<matplotlib.axes._subplots.AxesSubplot at 0x1c48e51390>"
      ]
     },
     "execution_count": 255,
     "metadata": {},
     "output_type": "execute_result"
    },
    {
     "data": {
      "image/png": "[encoded data removed]",
      "text/plain": [
       "<matplotlib.figure.Figure at 0x1c399bdc18>"
      ]
     },
     "metadata": {},
     "output_type": "display_data"
    }
   ],
   "source": [
    "# Number of tweets per sentiment\n",
    "nb_tweets_per_sentiment = data.groupby(\"sentiment\").count()[\"tweet_id\"].sort_values()\n",
    "nb_tweets_per_sentiment.plot(kind=\"bar\", title=\"Number of tweets per sentiment\")"
   ]
  },
  {
   "cell_type": "markdown",
   "metadata": {},
   "source": [
    "Multiclass (13!) classification problems are tough. Moreover, classes for this problem are strongly unbalanced. To reduce this problem, I took two initiatives :\n",
    "- removing lines with \"empty\" label, that are in fact unlabeled tweets\n",
    "- moving quasi-unexisting \"anger\"-labelled tweets to \"hate\" category"
   ]
  },
  {
   "cell_type": "code",
   "execution_count": 256,
   "metadata": {
    "collapsed": true
   },
   "outputs": [],
   "source": [
    "# Move \"anger\" category to \"hate\" category\n",
    "data[\"sentiment\"] = data[\"sentiment\"].map(lambda sentiment: \"hate\" if sentiment == \"anger\" else sentiment)"
   ]
  },
  {
   "cell_type": "code",
   "execution_count": 257,
   "metadata": {
    "collapsed": true
   },
   "outputs": [],
   "source": [
    "# Delete empty-labelled lines\n",
    "data = data[data.sentiment != \"empty\"].reset_index(drop=True)"
   ]
  },
  {
   "cell_type": "markdown",
   "metadata": {
    "collapsed": true
   },
   "source": [
    "## Feature engineering\n",
    "In this part, we will create the features that hopefully will help us to crack the sentiment analysis problem.\n",
    "\n",
    "Some classic features could be:\n",
    "- Number of **words** in the tweet\n",
    "- Punctuation: number of **exclamation marks, question marks, dots**\n",
    "- Emoticons\n",
    "- Number of negation words\n",
    "    - Number of happy and sad emoticons\n",
    "    - Number of some specific recurrent emoticons (<3, ;))\n",
    "    \n",
    "    \n",
    "Some more advanced features: \n",
    "- **Positiveness/Negativess** of a tweet using publicly available lexicon SentiWordNet\n",
    "- Tweet2Vec = aggregated Word2Vec over the words of the tweet\n",
    "\n",
    "Additional ideas:\n",
    "- *Not implemented*: use of **POS tags**, for example count of the adjectives..\n",
    "- *Not implemented*: detecting **recurrent words** per sentiment for dummy variable\n",
    "- *Not implemented*: bag-of-words model, mixed with TF-IDF\n",
    "- *Not implemented*: for the author of the tweet, count the #number of previous messages for each sentiment"
   ]
  },
  {
   "cell_type": "markdown",
   "metadata": {},
   "source": [
    "### Number of words"
   ]
  },
  {
   "cell_type": "code",
   "execution_count": 258,
   "metadata": {
    "scrolled": true
   },
   "outputs": [
    {
     "name": "stdout",
     "output_type": "stream",
     "text": [
      "Nb of words: min=1, max=84, avg=15.28\n"
     ]
    },
    {
     "data": {
      "text/plain": [
       "<matplotlib.axes._subplots.AxesSubplot at 0x1c48c10860>"
      ]
     },
     "execution_count": 258,
     "metadata": {},
     "output_type": "execute_result"
    },
    {
     "data": {
      "image/png": "[encoded data removed]",
      "text/plain": [
       "<matplotlib.figure.Figure at 0x1c48de16a0>"
      ]
     },
     "metadata": {},
     "output_type": "display_data"
    }
   ],
   "source": [
    "# Nb of words\n",
    "data[\"nb_words\"] = data[\"tknzd_tweet\"].map(lambda list_words: len(list_words))\n",
    "max_words = data.nb_words.max()\n",
    "min_words = data.nb_words.min()\n",
    "avg_words = data.nb_words.mean()\n",
    "print(\"Nb of words: min={0}, max={1}, avg={2:.2f}\".format(min_words, max_words, avg_words))\n",
    "\n",
    "data.nb_words.hist(bins=20)"
   ]
  },
  {
   "cell_type": "markdown",
   "metadata": {},
   "source": [
    "### Counting punctuation (?!.)"
   ]
  },
  {
   "cell_type": "code",
   "execution_count": 259,
   "metadata": {
    "collapsed": true,
    "scrolled": true
   },
   "outputs": [],
   "source": [
    "data[\"nb_dots\"] = data[\"content\"].map(lambda tweet: tweet.count(\".\"))\n",
    "data[\"nb_exc_marks\"] = data[\"content\"].map(lambda tweet: tweet.count(\"!\"))\n",
    "data[\"nb_quest_marks\"] = data[\"content\"].map(lambda tweet: tweet.count(\"?\"))"
   ]
  },
  {
   "cell_type": "markdown",
   "metadata": {},
   "source": [
    "### Emoticons\n",
    "In emoticons.py file, we distinguinsh positive emoticons in \"HAPPY\" list, and negative emoticons in \"SAD\" list. Of course, taking into account our problem, it would have been better to have a more precise division of emoticons."
   ]
  },
  {
   "cell_type": "code",
   "execution_count": 260,
   "metadata": {
    "collapsed": true,
    "scrolled": true
   },
   "outputs": [],
   "source": [
    "all_emot = HAPPY.union(SAD)"
   ]
  },
  {
   "cell_type": "code",
   "execution_count": 261,
   "metadata": {
    "collapsed": true,
    "scrolled": true
   },
   "outputs": [],
   "source": [
    "# Count # of apparitions of emoticons in all tweets and store it in a dictionnary\n",
    "d_count = count_emoticons(data.tknzd_tweet, all_emot)"
   ]
  },
  {
   "cell_type": "code",
   "execution_count": 262,
   "metadata": {
    "scrolled": true
   },
   "outputs": [
    {
     "data": {
      "text/plain": [
       "{'8)': 1,\n",
       " \":'(\": 32,\n",
       " \":')\": 5,\n",
       " ':-/': 10,\n",
       " ':-p': 13,\n",
       " ':@': 15,\n",
       " ':[': 7,\n",
       " ':\\\\': 9,\n",
       " ':]': 30,\n",
       " ':d': 3,\n",
       " ':o)': 2,\n",
       " ':p': 58,\n",
       " ':{': 1,\n",
       " ';(': 8,\n",
       " ';)': 191,\n",
       " '<3': 358,\n",
       " '=/': 13,\n",
       " '=\\\\': 2,\n",
       " '=]': 14,\n",
       " '=p': 14,\n",
       " 'xd': 90,\n",
       " 'xp': 6}"
      ]
     },
     "execution_count": 262,
     "metadata": {},
     "output_type": "execute_result"
    }
   ],
   "source": [
    "d_count"
   ]
  },
  {
   "cell_type": "code",
   "execution_count": 263,
   "metadata": {
    "collapsed": true,
    "scrolled": true
   },
   "outputs": [],
   "source": [
    "# For recurrent emoticons X (more than 100 occurences in dataset), \n",
    "# create a feature nb_emot_X that counts the # of X in each tweet\n",
    "recurent_threshold = 100\n",
    "# List of recurrent emoticons\n",
    "recurent_emo = [emoticon for emoticon in d_count.keys() if d_count[emoticon]>=recurent_threshold]\n",
    "\n",
    "data.drop([column for column in data.columns if \"nb_emo\" in column], axis=1, inplace=True)\n",
    "# Create the columns\n",
    "for emoticon in recurent_emo:\n",
    "    data[\"nb_emo_{}\".format(emoticon)] = data[\"tknzd_tweet\"].map(lambda words: sum([1 for word in words if word == emoticon]))"
   ]
  },
  {
   "cell_type": "code",
   "execution_count": 264,
   "metadata": {
    "collapsed": true,
    "scrolled": true
   },
   "outputs": [],
   "source": [
    "# Count the # of positive and negative emoticons\n",
    "data[\"nb_happy_emot\"] = data[\"tknzd_tweet\"].map(lambda words: sum([1 for word in words if word in HAPPY]))\n",
    "data[\"nb_sad_emot\"] = data[\"tknzd_tweet\"].map(lambda words: sum([1 for word in words if word in SAD]))"
   ]
  },
  {
   "cell_type": "markdown",
   "metadata": {},
   "source": [
    "### Negation words\n",
    "Count the number of negation phrases (for ex., \"cant\", \"can't\", ...)"
   ]
  },
  {
   "cell_type": "code",
   "execution_count": 265,
   "metadata": {
    "collapsed": true,
    "scrolled": true
   },
   "outputs": [],
   "source": [
    "data[\"nb_negation\"] = data[\"clean_content\"].map(lambda tweet: sum([1 for neg_word in NEGATION if neg_word in tweet]))"
   ]
  },
  {
   "cell_type": "markdown",
   "metadata": {},
   "source": [
    "### Sentiment words\n",
    "SentiWord net is a publicly available lexicon, giving a \"Positiveness\" and \"Negativeness\" score for each word of the english vocabulary. Our goal here is to compute a pos_score and neg_score for each tweet based on that lexicon. \n",
    "\n",
    "The idea here is, for a given tweet, to sum the scores for each word and average."
   ]
  },
  {
   "cell_type": "code",
   "execution_count": 266,
   "metadata": {
    "collapsed": true,
    "scrolled": true
   },
   "outputs": [],
   "source": [
    "sw_net = pd.read_table(\"data/swn.txt\", skiprows=26)"
   ]
  },
  {
   "cell_type": "code",
   "execution_count": 267,
   "metadata": {
    "scrolled": true
   },
   "outputs": [
    {
     "data": {
      "text/html": [
       "<div>\n",
       "<style>\n",
       "    .dataframe thead tr:only-child th {\n",
       "        text-align: right;\n",
       "    }\n",
       "\n",
       "    .dataframe thead th {\n",
       "        text-align: left;\n",
       "    }\n",
       "\n",
       "    .dataframe tbody tr th {\n",
       "        vertical-align: top;\n",
       "    }\n",
       "</style>\n",
       "<table border=\"1\" class=\"dataframe\">\n",
       "  <thead>\n",
       "    <tr style=\"text-align: right;\">\n",
       "      <th></th>\n",
       "      <th># POS</th>\n",
       "      <th>ID</th>\n",
       "      <th>PosScore</th>\n",
       "      <th>NegScore</th>\n",
       "      <th>SynsetTerms</th>\n",
       "      <th>Gloss</th>\n",
       "    </tr>\n",
       "  </thead>\n",
       "  <tbody>\n",
       "    <tr>\n",
       "      <th>0</th>\n",
       "      <td>a</td>\n",
       "      <td>1740.0</td>\n",
       "      <td>0.125</td>\n",
       "      <td>0.00</td>\n",
       "      <td>able#1</td>\n",
       "      <td>(usually followed by `to') having the necessar...</td>\n",
       "    </tr>\n",
       "    <tr>\n",
       "      <th>1</th>\n",
       "      <td>a</td>\n",
       "      <td>2098.0</td>\n",
       "      <td>0.000</td>\n",
       "      <td>0.75</td>\n",
       "      <td>unable#1</td>\n",
       "      <td>(usually followed by `to') not having the nece...</td>\n",
       "    </tr>\n",
       "    <tr>\n",
       "      <th>2</th>\n",
       "      <td>a</td>\n",
       "      <td>2312.0</td>\n",
       "      <td>0.000</td>\n",
       "      <td>0.00</td>\n",
       "      <td>dorsal#2 abaxial#1</td>\n",
       "      <td>facing away from the axis of an organ or organ...</td>\n",
       "    </tr>\n",
       "    <tr>\n",
       "      <th>3</th>\n",
       "      <td>a</td>\n",
       "      <td>2527.0</td>\n",
       "      <td>0.000</td>\n",
       "      <td>0.00</td>\n",
       "      <td>ventral#2 adaxial#1</td>\n",
       "      <td>nearest to or facing toward the axis of an org...</td>\n",
       "    </tr>\n",
       "    <tr>\n",
       "      <th>4</th>\n",
       "      <td>a</td>\n",
       "      <td>2730.0</td>\n",
       "      <td>0.000</td>\n",
       "      <td>0.00</td>\n",
       "      <td>acroscopic#1</td>\n",
       "      <td>facing or on the side toward the apex</td>\n",
       "    </tr>\n",
       "  </tbody>\n",
       "</table>\n",
       "</div>"
      ],
      "text/plain": [
       "  # POS      ID  PosScore  NegScore          SynsetTerms  \\\n",
       "0     a  1740.0     0.125      0.00               able#1   \n",
       "1     a  2098.0     0.000      0.75             unable#1   \n",
       "2     a  2312.0     0.000      0.00   dorsal#2 abaxial#1   \n",
       "3     a  2527.0     0.000      0.00  ventral#2 adaxial#1   \n",
       "4     a  2730.0     0.000      0.00         acroscopic#1   \n",
       "\n",
       "                                               Gloss  \n",
       "0  (usually followed by `to') having the necessar...  \n",
       "1  (usually followed by `to') not having the nece...  \n",
       "2  facing away from the axis of an organ or organ...  \n",
       "3  nearest to or facing toward the axis of an org...  \n",
       "4              facing or on the side toward the apex  "
      ]
     },
     "execution_count": 267,
     "metadata": {},
     "output_type": "execute_result"
    }
   ],
   "source": [
    "sw_net.head()"
   ]
  },
  {
   "cell_type": "code",
   "execution_count": 268,
   "metadata": {
    "scrolled": true
   },
   "outputs": [
    {
     "name": "stdout",
     "output_type": "stream",
     "text": [
      "Number of Sentiment words: 29095\n"
     ]
    }
   ],
   "source": [
    "# Remove objective words (ie PosScore = 0 and NegScore = 0)\n",
    "sw = sw_net[(sw_net.NegScore > 0) | (sw_net.PosScore > 0)].reset_index()\n",
    "print(\"Number of Sentiment words: {}\".format(sw.shape[0]))"
   ]
  },
  {
   "cell_type": "code",
   "execution_count": 269,
   "metadata": {
    "scrolled": true
   },
   "outputs": [
    {
     "data": {
      "text/html": [
       "<div>\n",
       "<style>\n",
       "    .dataframe thead tr:only-child th {\n",
       "        text-align: right;\n",
       "    }\n",
       "\n",
       "    .dataframe thead th {\n",
       "        text-align: left;\n",
       "    }\n",
       "\n",
       "    .dataframe tbody tr th {\n",
       "        vertical-align: top;\n",
       "    }\n",
       "</style>\n",
       "<table border=\"1\" class=\"dataframe\">\n",
       "  <thead>\n",
       "    <tr style=\"text-align: right;\">\n",
       "      <th></th>\n",
       "      <th>index</th>\n",
       "      <th># POS</th>\n",
       "      <th>ID</th>\n",
       "      <th>PosScore</th>\n",
       "      <th>NegScore</th>\n",
       "      <th>SynsetTerms</th>\n",
       "      <th>Gloss</th>\n",
       "      <th>tknzd_synset</th>\n",
       "    </tr>\n",
       "  </thead>\n",
       "  <tbody>\n",
       "    <tr>\n",
       "      <th>0</th>\n",
       "      <td>0</td>\n",
       "      <td>a</td>\n",
       "      <td>1740.0</td>\n",
       "      <td>0.125</td>\n",
       "      <td>0.00</td>\n",
       "      <td>able#1</td>\n",
       "      <td>(usually followed by `to') having the necessar...</td>\n",
       "      <td>[able]</td>\n",
       "    </tr>\n",
       "    <tr>\n",
       "      <th>1</th>\n",
       "      <td>1</td>\n",
       "      <td>a</td>\n",
       "      <td>2098.0</td>\n",
       "      <td>0.000</td>\n",
       "      <td>0.75</td>\n",
       "      <td>unable#1</td>\n",
       "      <td>(usually followed by `to') not having the nece...</td>\n",
       "      <td>[unable]</td>\n",
       "    </tr>\n",
       "    <tr>\n",
       "      <th>2</th>\n",
       "      <td>10</td>\n",
       "      <td>a</td>\n",
       "      <td>3700.0</td>\n",
       "      <td>0.250</td>\n",
       "      <td>0.00</td>\n",
       "      <td>dissilient#1</td>\n",
       "      <td>bursting open with force, as do some ripe seed...</td>\n",
       "      <td>[dissilient]</td>\n",
       "    </tr>\n",
       "    <tr>\n",
       "      <th>3</th>\n",
       "      <td>11</td>\n",
       "      <td>a</td>\n",
       "      <td>3829.0</td>\n",
       "      <td>0.250</td>\n",
       "      <td>0.00</td>\n",
       "      <td>parturient#2</td>\n",
       "      <td>giving birth; \"a parturient heifer\"</td>\n",
       "      <td>[parturient]</td>\n",
       "    </tr>\n",
       "    <tr>\n",
       "      <th>4</th>\n",
       "      <td>20</td>\n",
       "      <td>a</td>\n",
       "      <td>5107.0</td>\n",
       "      <td>0.500</td>\n",
       "      <td>0.00</td>\n",
       "      <td>uncut#7 full-length#2</td>\n",
       "      <td>complete; \"the full-length play\"</td>\n",
       "      <td>[uncut, full-length]</td>\n",
       "    </tr>\n",
       "  </tbody>\n",
       "</table>\n",
       "</div>"
      ],
      "text/plain": [
       "   index # POS      ID  PosScore  NegScore            SynsetTerms  \\\n",
       "0      0     a  1740.0     0.125      0.00                 able#1   \n",
       "1      1     a  2098.0     0.000      0.75               unable#1   \n",
       "2     10     a  3700.0     0.250      0.00           dissilient#1   \n",
       "3     11     a  3829.0     0.250      0.00           parturient#2   \n",
       "4     20     a  5107.0     0.500      0.00  uncut#7 full-length#2   \n",
       "\n",
       "                                               Gloss          tknzd_synset  \n",
       "0  (usually followed by `to') having the necessar...                [able]  \n",
       "1  (usually followed by `to') not having the nece...              [unable]  \n",
       "2  bursting open with force, as do some ripe seed...          [dissilient]  \n",
       "3                giving birth; \"a parturient heifer\"          [parturient]  \n",
       "4                   complete; \"the full-length play\"  [uncut, full-length]  "
      ]
     },
     "execution_count": 269,
     "metadata": {},
     "output_type": "execute_result"
    }
   ],
   "source": [
    "# Remove \"#\" from SynsetTerms\n",
    "sw[\"tknzd_synset\"] = sw[\"SynsetTerms\"].map(lambda synset: re.sub(\"#([0-9])*\", \"\", synset).split())\n",
    "sw.head()"
   ]
  },
  {
   "cell_type": "code",
   "execution_count": 270,
   "metadata": {
    "scrolled": true
   },
   "outputs": [
    {
     "data": {
      "text/html": [
       "<div>\n",
       "<style>\n",
       "    .dataframe thead tr:only-child th {\n",
       "        text-align: right;\n",
       "    }\n",
       "\n",
       "    .dataframe thead th {\n",
       "        text-align: left;\n",
       "    }\n",
       "\n",
       "    .dataframe tbody tr th {\n",
       "        vertical-align: top;\n",
       "    }\n",
       "</style>\n",
       "<table border=\"1\" class=\"dataframe\">\n",
       "  <thead>\n",
       "    <tr style=\"text-align: right;\">\n",
       "      <th></th>\n",
       "      <th>neg_score</th>\n",
       "      <th>pos_score</th>\n",
       "    </tr>\n",
       "  </thead>\n",
       "  <tbody>\n",
       "    <tr>\n",
       "      <th>able</th>\n",
       "      <td>0.00</td>\n",
       "      <td>0.125</td>\n",
       "    </tr>\n",
       "    <tr>\n",
       "      <th>unable</th>\n",
       "      <td>0.75</td>\n",
       "      <td>0.000</td>\n",
       "    </tr>\n",
       "    <tr>\n",
       "      <th>dissilient</th>\n",
       "      <td>0.00</td>\n",
       "      <td>0.250</td>\n",
       "    </tr>\n",
       "    <tr>\n",
       "      <th>parturient</th>\n",
       "      <td>0.00</td>\n",
       "      <td>0.250</td>\n",
       "    </tr>\n",
       "    <tr>\n",
       "      <th>uncut</th>\n",
       "      <td>0.00</td>\n",
       "      <td>0.500</td>\n",
       "    </tr>\n",
       "  </tbody>\n",
       "</table>\n",
       "</div>"
      ],
      "text/plain": [
       "            neg_score  pos_score\n",
       "able             0.00      0.125\n",
       "unable           0.75      0.000\n",
       "dissilient       0.00      0.250\n",
       "parturient       0.00      0.250\n",
       "uncut            0.00      0.500"
      ]
     },
     "execution_count": 270,
     "metadata": {},
     "output_type": "execute_result"
    }
   ],
   "source": [
    "# Create usable dataframe for my computation \n",
    "word_index = []\n",
    "pos_scores = []\n",
    "neg_scores = []\n",
    "\n",
    "for i, row in sw.iterrows():\n",
    "    for word in row.tknzd_synset:\n",
    "        word_index.append(word)\n",
    "        pos_scores.append(row.PosScore)\n",
    "        neg_scores.append(row.NegScore)\n",
    "\n",
    "scores_df = pd.DataFrame(data = {\"pos_score\": pos_scores, \"neg_score\": neg_scores}, index=word_index)     \n",
    "scores_df.head()"
   ]
  },
  {
   "cell_type": "markdown",
   "metadata": {},
   "source": [
    "We have formatted the lexicon in the way we wanted. We can not compute pos_score and neg_score for each tweet, and then divide by the number of words to get the average."
   ]
  },
  {
   "cell_type": "code",
   "execution_count": 271,
   "metadata": {
    "collapsed": true,
    "scrolled": true
   },
   "outputs": [],
   "source": [
    "data[\"pos_score\"] = data[\"stmd_tweet\"].map(lambda tweet: sum([pos_score(scores_df, word) for word in tweet]))"
   ]
  },
  {
   "cell_type": "code",
   "execution_count": 272,
   "metadata": {
    "collapsed": true,
    "scrolled": true
   },
   "outputs": [],
   "source": [
    "data[\"neg_score\"] = data[\"stmd_tweet\"].map(lambda tweet: sum([neg_score(scores_df, word) for word in tweet]))"
   ]
  },
  {
   "cell_type": "code",
   "execution_count": 273,
   "metadata": {
    "collapsed": true,
    "scrolled": true
   },
   "outputs": [],
   "source": [
    "data[\"pos_score_rel\"] = data[\"pos_score\"]/data[\"nb_words\"]\n",
    "data[\"neg_score_rel\"] = data[\"neg_score\"]/data[\"nb_words\"]"
   ]
  },
  {
   "cell_type": "markdown",
   "metadata": {},
   "source": [
    "In the following, we check the results of our created feature, by grouping the dataset by sentiment, and computing the mean of both scores. We can notice that positive sentiments have indeed a highest positive score, which makes it a good discriminating feature (same for negative sentiments and negative score)"
   ]
  },
  {
   "cell_type": "code",
   "execution_count": 274,
   "metadata": {},
   "outputs": [
    {
     "data": {
      "text/plain": [
       "sentiment\n",
       "love          0.061539\n",
       "happiness     0.054945\n",
       "relief        0.054343\n",
       "enthusiasm    0.049409\n",
       "fun           0.048912\n",
       "neutral       0.044514\n",
       "worry         0.044311\n",
       "sadness       0.043737\n",
       "surprise      0.043305\n",
       "boredom       0.041301\n",
       "hate          0.039683\n",
       "Name: pos_score_rel, dtype: float64"
      ]
     },
     "execution_count": 274,
     "metadata": {},
     "output_type": "execute_result"
    }
   ],
   "source": [
    "data.groupby(\"sentiment\").mean().sort_values(\"pos_score_rel\", ascending=False)[\"pos_score_rel\"]"
   ]
  },
  {
   "cell_type": "code",
   "execution_count": 275,
   "metadata": {},
   "outputs": [
    {
     "data": {
      "text/plain": [
       "sentiment\n",
       "hate          0.048377\n",
       "sadness       0.043764\n",
       "worry         0.039564\n",
       "boredom       0.037311\n",
       "relief        0.032389\n",
       "enthusiasm    0.029139\n",
       "surprise      0.029129\n",
       "neutral       0.028207\n",
       "fun           0.028202\n",
       "happiness     0.025258\n",
       "love          0.022263\n",
       "Name: neg_score_rel, dtype: float64"
      ]
     },
     "execution_count": 275,
     "metadata": {},
     "output_type": "execute_result"
    }
   ],
   "source": [
    "data.groupby(\"sentiment\").mean().sort_values(\"neg_score_rel\", ascending=False)[\"neg_score_rel\"]"
   ]
  },
  {
   "cell_type": "code",
   "execution_count": 276,
   "metadata": {
    "collapsed": true,
    "scrolled": true
   },
   "outputs": [],
   "source": [
    "#data.to_csv(\"data/text_emotion_w_features.csv\")"
   ]
  },
  {
   "cell_type": "markdown",
   "metadata": {},
   "source": [
    "### Tweet2Vec"
   ]
  },
  {
   "cell_type": "markdown",
   "metadata": {},
   "source": [
    "In this part, we will transform each tweet to a 200 size vector. To do that, I trained a word2vec model on my tokenized tweets which outputs a vector for each word of the vocabulary. Then, we aggregate by taking the mean of all the vectors that compose the tweet.\n",
    "However, with this aggregating method, all words are considered with the same weight. In practice, all the words should not be treated equivalently, so we can weight their vector by the TF-IDF score."
   ]
  },
  {
   "cell_type": "code",
   "execution_count": 277,
   "metadata": {
    "collapsed": true
   },
   "outputs": [],
   "source": [
    "size_embedding = 200\n",
    "w2v_model = gensim.models.Word2Vec(data.tknzd_tweet, size=size_embedding)\n",
    "# Dict containing (key, value)=(word, vector)\n",
    "w2v = dict(zip(w2v_model.wv.index2word, w2v_model.wv.vectors))"
   ]
  },
  {
   "cell_type": "code",
   "execution_count": 486,
   "metadata": {},
   "outputs": [
    {
     "data": {
      "text/plain": [
       "[('miss', 0.8401534557342529),\n",
       " ('thank', 0.8305109143257141),\n",
       " ('loved', 0.7537878155708313),\n",
       " ('luv', 0.7375222444534302),\n",
       " ('owe', 0.7357692122459412),\n",
       " ('<3', 0.7205032110214233),\n",
       " ('appreciate', 0.7178507447242737),\n",
       " ('liked', 0.7169893980026245),\n",
       " ('missed', 0.7154136896133423),\n",
       " ('forgot', 0.7106112837791443)]"
      ]
     },
     "execution_count": 486,
     "metadata": {},
     "output_type": "execute_result"
    }
   ],
   "source": [
    "# Sanity check for model performance\n",
    "w2v_model.wv.most_similar(\"love\")"
   ]
  },
  {
   "cell_type": "code",
   "execution_count": 491,
   "metadata": {},
   "outputs": [
    {
     "data": {
      "text/plain": [
       "[(\"mother's\", 0.921486496925354),\n",
       " ('mothers', 0.8986084461212158),\n",
       " ('birthday', 0.8392003774642944),\n",
       " ('wars', 0.8318478465080261),\n",
       " ('mommys', 0.8249069452285767),\n",
       " ('beautiful', 0.8083910942077637),\n",
       " (\"momma's\", 0.8016931414604187),\n",
       " ('belated', 0.7945509552955627),\n",
       " (\"mom's\", 0.7874326705932617),\n",
       " ('mommies', 0.7732957601547241)]"
      ]
     },
     "execution_count": 491,
     "metadata": {},
     "output_type": "execute_result"
    }
   ],
   "source": [
    "w2v_model.wv.most_similar(\"happy\")"
   ]
  },
  {
   "cell_type": "code",
   "execution_count": 278,
   "metadata": {
    "collapsed": true
   },
   "outputs": [],
   "source": [
    "tweets2vec = []\n",
    "for index, row in data.iterrows():\n",
    "    nb_words = row.nb_words\n",
    "    tknzd_tweet = row.tknzd_tweet\n",
    "    tweet2vec = np.zeros(size_embedding)\n",
    "    # Sum the vector of each word and add them. If the word is not found, we decrease the # of words\n",
    "    for word in tknzd_tweet:\n",
    "        try:\n",
    "            tweet2vec += w2v[word]\n",
    "        except KeyError:\n",
    "            if nb_words > 1:\n",
    "                nb_words -= 1\n",
    "    # Divide by number of words\n",
    "    tweet2vec /= nb_words\n",
    "    tweets2vec.append(tweet2vec)"
   ]
  },
  {
   "cell_type": "code",
   "execution_count": 279,
   "metadata": {},
   "outputs": [
    {
     "data": {
      "text/html": [
       "<div>\n",
       "<style>\n",
       "    .dataframe thead tr:only-child th {\n",
       "        text-align: right;\n",
       "    }\n",
       "\n",
       "    .dataframe thead th {\n",
       "        text-align: left;\n",
       "    }\n",
       "\n",
       "    .dataframe tbody tr th {\n",
       "        vertical-align: top;\n",
       "    }\n",
       "</style>\n",
       "<table border=\"1\" class=\"dataframe\">\n",
       "  <thead>\n",
       "    <tr style=\"text-align: right;\">\n",
       "      <th></th>\n",
       "      <th>t2v_0</th>\n",
       "      <th>t2v_1</th>\n",
       "      <th>t2v_2</th>\n",
       "      <th>t2v_3</th>\n",
       "      <th>t2v_4</th>\n",
       "      <th>t2v_5</th>\n",
       "      <th>t2v_6</th>\n",
       "      <th>t2v_7</th>\n",
       "      <th>t2v_8</th>\n",
       "      <th>t2v_9</th>\n",
       "      <th>...</th>\n",
       "      <th>t2v_190</th>\n",
       "      <th>t2v_191</th>\n",
       "      <th>t2v_192</th>\n",
       "      <th>t2v_193</th>\n",
       "      <th>t2v_194</th>\n",
       "      <th>t2v_195</th>\n",
       "      <th>t2v_196</th>\n",
       "      <th>t2v_197</th>\n",
       "      <th>t2v_198</th>\n",
       "      <th>t2v_199</th>\n",
       "    </tr>\n",
       "  </thead>\n",
       "  <tbody>\n",
       "    <tr>\n",
       "      <th>0</th>\n",
       "      <td>0.217394</td>\n",
       "      <td>0.144365</td>\n",
       "      <td>0.026492</td>\n",
       "      <td>-0.085305</td>\n",
       "      <td>-0.036387</td>\n",
       "      <td>-0.094769</td>\n",
       "      <td>0.083103</td>\n",
       "      <td>0.286269</td>\n",
       "      <td>0.087822</td>\n",
       "      <td>0.077326</td>\n",
       "      <td>...</td>\n",
       "      <td>-0.149738</td>\n",
       "      <td>0.144362</td>\n",
       "      <td>0.239027</td>\n",
       "      <td>0.166448</td>\n",
       "      <td>-0.058622</td>\n",
       "      <td>0.277699</td>\n",
       "      <td>-0.384980</td>\n",
       "      <td>0.270411</td>\n",
       "      <td>0.072929</td>\n",
       "      <td>-0.237130</td>\n",
       "    </tr>\n",
       "    <tr>\n",
       "      <th>1</th>\n",
       "      <td>0.068037</td>\n",
       "      <td>0.015649</td>\n",
       "      <td>-0.001767</td>\n",
       "      <td>-0.137875</td>\n",
       "      <td>0.029204</td>\n",
       "      <td>-0.139645</td>\n",
       "      <td>0.081710</td>\n",
       "      <td>0.133905</td>\n",
       "      <td>0.099852</td>\n",
       "      <td>-0.007356</td>\n",
       "      <td>...</td>\n",
       "      <td>-0.034437</td>\n",
       "      <td>0.049678</td>\n",
       "      <td>0.172862</td>\n",
       "      <td>0.109237</td>\n",
       "      <td>-0.039397</td>\n",
       "      <td>0.162186</td>\n",
       "      <td>-0.224083</td>\n",
       "      <td>0.081859</td>\n",
       "      <td>0.027599</td>\n",
       "      <td>-0.144734</td>\n",
       "    </tr>\n",
       "    <tr>\n",
       "      <th>2</th>\n",
       "      <td>0.481586</td>\n",
       "      <td>0.263456</td>\n",
       "      <td>-0.098936</td>\n",
       "      <td>-0.230188</td>\n",
       "      <td>-0.086499</td>\n",
       "      <td>-0.040481</td>\n",
       "      <td>-0.011437</td>\n",
       "      <td>0.314480</td>\n",
       "      <td>-0.071701</td>\n",
       "      <td>0.049454</td>\n",
       "      <td>...</td>\n",
       "      <td>0.061767</td>\n",
       "      <td>-0.009299</td>\n",
       "      <td>0.061778</td>\n",
       "      <td>0.187102</td>\n",
       "      <td>0.102376</td>\n",
       "      <td>0.272907</td>\n",
       "      <td>-0.555231</td>\n",
       "      <td>0.470309</td>\n",
       "      <td>-0.097704</td>\n",
       "      <td>-0.345757</td>\n",
       "    </tr>\n",
       "    <tr>\n",
       "      <th>3</th>\n",
       "      <td>0.239376</td>\n",
       "      <td>0.169543</td>\n",
       "      <td>0.036071</td>\n",
       "      <td>0.056422</td>\n",
       "      <td>-0.211502</td>\n",
       "      <td>-0.067794</td>\n",
       "      <td>0.111140</td>\n",
       "      <td>0.163457</td>\n",
       "      <td>0.056772</td>\n",
       "      <td>0.016451</td>\n",
       "      <td>...</td>\n",
       "      <td>-0.123575</td>\n",
       "      <td>-0.172463</td>\n",
       "      <td>0.349211</td>\n",
       "      <td>0.335293</td>\n",
       "      <td>0.071826</td>\n",
       "      <td>0.374123</td>\n",
       "      <td>-0.501034</td>\n",
       "      <td>0.340120</td>\n",
       "      <td>0.008684</td>\n",
       "      <td>-0.355157</td>\n",
       "    </tr>\n",
       "    <tr>\n",
       "      <th>4</th>\n",
       "      <td>0.313063</td>\n",
       "      <td>0.317073</td>\n",
       "      <td>0.109620</td>\n",
       "      <td>0.038170</td>\n",
       "      <td>-0.327444</td>\n",
       "      <td>-0.134137</td>\n",
       "      <td>0.008147</td>\n",
       "      <td>0.393080</td>\n",
       "      <td>0.111889</td>\n",
       "      <td>0.027864</td>\n",
       "      <td>...</td>\n",
       "      <td>-0.344380</td>\n",
       "      <td>0.102595</td>\n",
       "      <td>0.445854</td>\n",
       "      <td>0.235502</td>\n",
       "      <td>0.029792</td>\n",
       "      <td>0.205163</td>\n",
       "      <td>-0.396248</td>\n",
       "      <td>0.308946</td>\n",
       "      <td>0.016970</td>\n",
       "      <td>-0.302793</td>\n",
       "    </tr>\n",
       "  </tbody>\n",
       "</table>\n",
       "<p>5 rows × 200 columns</p>\n",
       "</div>"
      ],
      "text/plain": [
       "      t2v_0     t2v_1     t2v_2     t2v_3     t2v_4     t2v_5     t2v_6  \\\n",
       "0  0.217394  0.144365  0.026492 -0.085305 -0.036387 -0.094769  0.083103   \n",
       "1  0.068037  0.015649 -0.001767 -0.137875  0.029204 -0.139645  0.081710   \n",
       "2  0.481586  0.263456 -0.098936 -0.230188 -0.086499 -0.040481 -0.011437   \n",
       "3  0.239376  0.169543  0.036071  0.056422 -0.211502 -0.067794  0.111140   \n",
       "4  0.313063  0.317073  0.109620  0.038170 -0.327444 -0.134137  0.008147   \n",
       "\n",
       "      t2v_7     t2v_8     t2v_9    ...      t2v_190   t2v_191   t2v_192  \\\n",
       "0  0.286269  0.087822  0.077326    ...    -0.149738  0.144362  0.239027   \n",
       "1  0.133905  0.099852 -0.007356    ...    -0.034437  0.049678  0.172862   \n",
       "2  0.314480 -0.071701  0.049454    ...     0.061767 -0.009299  0.061778   \n",
       "3  0.163457  0.056772  0.016451    ...    -0.123575 -0.172463  0.349211   \n",
       "4  0.393080  0.111889  0.027864    ...    -0.344380  0.102595  0.445854   \n",
       "\n",
       "    t2v_193   t2v_194   t2v_195   t2v_196   t2v_197   t2v_198   t2v_199  \n",
       "0  0.166448 -0.058622  0.277699 -0.384980  0.270411  0.072929 -0.237130  \n",
       "1  0.109237 -0.039397  0.162186 -0.224083  0.081859  0.027599 -0.144734  \n",
       "2  0.187102  0.102376  0.272907 -0.555231  0.470309 -0.097704 -0.345757  \n",
       "3  0.335293  0.071826  0.374123 -0.501034  0.340120  0.008684 -0.355157  \n",
       "4  0.235502  0.029792  0.205163 -0.396248  0.308946  0.016970 -0.302793  \n",
       "\n",
       "[5 rows x 200 columns]"
      ]
     },
     "execution_count": 279,
     "metadata": {},
     "output_type": "execute_result"
    }
   ],
   "source": [
    "t2v = pd.DataFrame(tweets2vec, columns=[\"t2v_{}\".format(i) for i in range(size_embedding)])\n",
    "t2v.head()"
   ]
  },
  {
   "cell_type": "markdown",
   "metadata": {},
   "source": [
    "## Models\n",
    "In this part, there will be 3 challenges:\n",
    "1. Because of the unbalanced classes, we have to find the correct way to split between train and cross-validation set We will use **Stratified k-fold** from scikit-learn library to preserve the percentage of samples for each class.\n",
    "2. We must define correctly the **metric that we want to optimize**, even more because we have a multi-class classification problem.\n",
    "3. We should define some **baseline \"dummy\" models** to be able to quantify the improvement (or no) of the algorithm."
   ]
  },
  {
   "cell_type": "code",
   "execution_count": 280,
   "metadata": {
    "collapsed": true
   },
   "outputs": [],
   "source": [
    "features = [\"length\", \"pos_score_rel\", \"neg_score_rel\"] + [column for column in data.columns if \"nb_\" in column]\n",
    "X = data[features]\n",
    "y = data.sentiment"
   ]
  },
  {
   "cell_type": "code",
   "execution_count": 484,
   "metadata": {},
   "outputs": [
    {
     "name": "stdout",
     "output_type": "stream",
     "text": [
      "d_sent: {'sadness': 0, 'enthusiasm': 1, 'neutral': 2, 'worry': 3, 'surprise': 4, 'love': 5, 'fun': 6, 'hate': 7, 'happiness': 8, 'boredom': 9, 'relief': 10}\n",
      "inv_d_sent: {0: 'sadness', 1: 'enthusiasm', 2: 'neutral', 3: 'worry', 4: 'surprise', 5: 'love', 6: 'fun', 7: 'hate', 8: 'happiness', 9: 'boredom', 10: 'relief'}\n"
     ]
    }
   ],
   "source": [
    "# The following dictionnaries assign each sentiment to a label \n",
    "# from 0 to 10 and will be used to get from a label to the sentiment\n",
    "d_sent = {}\n",
    "sent_index = 0\n",
    "for sentiment in y.unique():\n",
    "    d_sent[sentiment] = sent_index\n",
    "    sent_index += 1\n",
    "\n",
    "inv_d_sent = {}\n",
    "for sentiment in y.unique():\n",
    "    inv_d_sent[d_sent[sentiment]] = sentiment\n",
    "    \n",
    "print(\"d_sent: {}\".format(d_sent))\n",
    "print(\"inv_d_sent: {}\".format(inv_d_sent))"
   ]
  },
  {
   "cell_type": "markdown",
   "metadata": {},
   "source": [
    "As mentionned before, we have a highly unbalanced multi-class classification problem. The following table shows the proportion of each sentiment in the dataset."
   ]
  },
  {
   "cell_type": "code",
   "execution_count": 282,
   "metadata": {},
   "outputs": [
    {
     "data": {
      "text/plain": [
       "sentiment\n",
       "neutral       22.050902\n",
       "worry         21.593955\n",
       "happiness     13.297424\n",
       "sadness       13.185102\n",
       "love           9.807776\n",
       "surprise       5.582927\n",
       "fun            4.533735\n",
       "relief         3.895540\n",
       "hate           3.658132\n",
       "enthusiasm     1.937559\n",
       "boredom        0.456947\n",
       "Name: tweet_id, dtype: float64"
      ]
     },
     "execution_count": 282,
     "metadata": {},
     "output_type": "execute_result"
    }
   ],
   "source": [
    "((data.groupby(\"sentiment\").count()[\"tweet_id\"]/data.shape[0]).sort_values(ascending=False))*100"
   ]
  },
  {
   "cell_type": "markdown",
   "metadata": {
    "collapsed": true
   },
   "source": [
    "### Stratified k-folds"
   ]
  },
  {
   "cell_type": "markdown",
   "metadata": {},
   "source": [
    "To be able to quantify correctly the improvements of the algorithm, we have to be able to test it over a cross-validation set. This cross-validation set should be a good representation of the entire dataset, hence random sampling is not acceptable. That is why we are usign a stratified k-fold that allow us to keep in the train and test sets the same proportion of sentiments as in the original dataset"
   ]
  },
  {
   "cell_type": "code",
   "execution_count": 319,
   "metadata": {
    "collapsed": true
   },
   "outputs": [],
   "source": [
    "skf = StratifiedKFold(4)\n",
    "train, test = next(skf.split(X,y))\n",
    "\n",
    "X_train = X.loc[train]\n",
    "y_train = y[train]\n",
    "\n",
    "X_test = X.loc[test]\n",
    "y_test = y[test]"
   ]
  },
  {
   "cell_type": "code",
   "execution_count": 320,
   "metadata": {},
   "outputs": [
    {
     "name": "stdout",
     "output_type": "stream",
     "text": [
      "                index\n",
      "sentiment            \n",
      "neutral     22.052766\n",
      "worry       21.596596\n",
      "happiness   13.297021\n",
      "sadness     13.184681\n",
      "love         9.807660\n",
      "surprise     5.582979\n",
      "fun          4.534468\n",
      "relief       3.894468\n",
      "hate         3.656170\n",
      "enthusiasm   1.937021\n",
      "boredom      0.456170\n"
     ]
    }
   ],
   "source": [
    "# To show that proportions are indeed kept\n",
    "print(((pd.DataFrame(y_train).reset_index().groupby(\"sentiment\").count()/y_train.shape[0]).sort_values(by=\"index\", ascending=False))*100)"
   ]
  },
  {
   "cell_type": "markdown",
   "metadata": {
    "collapsed": true
   },
   "source": [
    "### Baseline models"
   ]
  },
  {
   "cell_type": "markdown",
   "metadata": {},
   "source": [
    "It is worth mentionning that the metric of quality is of high importance here due to the nature of the problem. The relevant metric to consider is strongly correlated with the business application. Here, we will keep track of the **micro and macro averages of the accuracy**, but other possibilities (precision, recall) could be accepted.\n",
    "\n",
    "We will try 2 baseline models to be able to quantify the performance of future models."
   ]
  },
  {
   "cell_type": "markdown",
   "metadata": {},
   "source": [
    "#### Always predicting Neutral"
   ]
  },
  {
   "cell_type": "code",
   "execution_count": 464,
   "metadata": {},
   "outputs": [],
   "source": [
    "# Neutral index is 3\n",
    "y_true = y.map(d_sent)\n",
    "y_pred = np.array([3]*data.shape[0])"
   ]
  },
  {
   "cell_type": "code",
   "execution_count": 467,
   "metadata": {},
   "outputs": [
    {
     "name": "stdout",
     "output_type": "stream",
     "text": [
      "Macro-average accuracy: 21.6%\n",
      "Micro-average accuracy: 9.1%\n",
      "#####\n",
      "     sentiment  accuracy\n",
      "0      sadness       0.0\n",
      "1   enthusiasm       0.0\n",
      "2      neutral       0.0\n",
      "3        worry     100.0\n",
      "4     surprise       0.0\n",
      "5         love       0.0\n",
      "6          fun       0.0\n",
      "7         hate       0.0\n",
      "8    happiness       0.0\n",
      "9      boredom       0.0\n",
      "10      relief       0.0\n"
     ]
    }
   ],
   "source": [
    "accuracies = accuracy_score_per_class(y_true, y_pred, inv_d_sent)"
   ]
  },
  {
   "cell_type": "markdown",
   "metadata": {},
   "source": [
    "Always predicting \"neutral\" leads to a 22% macro-average accuracy, and is more penalized by the micro-average which considers evenly each sentiment."
   ]
  },
  {
   "cell_type": "code",
   "execution_count": 468,
   "metadata": {},
   "outputs": [],
   "source": [
    "#print(\"Accuracy: {:.2}\".format(accuracy_score(y.map(d_sent), y_pred)))\n",
    "#print(\"Recall: {:.2}\".format(recall_score(y.map(d_sent), y_pred, average = \"macro\")))\n",
    "#print(\"Precision: {:.2}\".format(precision_score(y.map(d_sent), y_pred, average = \"macro\")))"
   ]
  },
  {
   "cell_type": "markdown",
   "metadata": {},
   "source": [
    "#### Predicting randomly following the distribution of data"
   ]
  },
  {
   "cell_type": "code",
   "execution_count": 469,
   "metadata": {},
   "outputs": [],
   "source": [
    "pvals = [0]*13\n",
    "for sentiment in d_sent.keys():\n",
    "    index = d_sent[sentiment]\n",
    "    pval = data.groupby(\"sentiment\").count()[\"tweet_id\"][sentiment]\n",
    "    pvals[index] = pval/data.shape[0]"
   ]
  },
  {
   "cell_type": "code",
   "execution_count": 470,
   "metadata": {
    "collapsed": true
   },
   "outputs": [],
   "source": [
    "y_pred = [np.argmax(draw) for draw in np.random.multinomial(1, pvals, size=data.shape[0])]"
   ]
  },
  {
   "cell_type": "code",
   "execution_count": 471,
   "metadata": {},
   "outputs": [
    {
     "name": "stdout",
     "output_type": "stream",
     "text": [
      "Macro-average accuracy: 14.6%\n",
      "Micro-average accuracy: 9.0%\n",
      "#####\n",
      "     sentiment  accuracy\n",
      "0      sadness      11.8\n",
      "1   enthusiasm       2.2\n",
      "2      neutral      21.5\n",
      "3        worry      21.6\n",
      "4     surprise       4.4\n",
      "5         love      10.0\n",
      "6          fun       4.5\n",
      "7         hate       4.5\n",
      "8    happiness      13.6\n",
      "9      boredom       0.6\n",
      "10      relief       4.6\n"
     ]
    }
   ],
   "source": [
    "accuracies = accuracy_score_per_class(y_true, y_pred, inv_d_sent)"
   ]
  },
  {
   "cell_type": "code",
   "execution_count": 472,
   "metadata": {
    "scrolled": true
   },
   "outputs": [],
   "source": [
    "#print(\"Accuracy: {:.2}\".format(accuracy_score(y.map(d_sent), y_pred)))\n",
    "#print(\"Recall: {:.2}\".format(recall_score(y.map(d_sent), y_pred, average = \"macro\")))\n",
    "#print(\"Precision: {:.2}\".format(precision_score(y.map(d_sent), y_pred, average = \"macro\")))"
   ]
  },
  {
   "cell_type": "markdown",
   "metadata": {},
   "source": [
    "### Random Forest"
   ]
  },
  {
   "cell_type": "markdown",
   "metadata": {},
   "source": [
    "#### Without Tweet2Vec features"
   ]
  },
  {
   "cell_type": "code",
   "execution_count": 493,
   "metadata": {
    "collapsed": true
   },
   "outputs": [],
   "source": [
    "train, test = next(skf.split(X,y))\n",
    "\n",
    "X_train = X.loc[train]\n",
    "y_train = y[train]\n",
    "\n",
    "X_test = X.loc[test]\n",
    "y_test = y[test]"
   ]
  },
  {
   "cell_type": "code",
   "execution_count": 494,
   "metadata": {
    "collapsed": true,
    "scrolled": true
   },
   "outputs": [],
   "source": [
    "clf = RandomForestClassifier(n_estimators=100, max_depth=10, n_jobs=-1)"
   ]
  },
  {
   "cell_type": "code",
   "execution_count": 495,
   "metadata": {},
   "outputs": [],
   "source": [
    "clf.fit(X_train, y_train)\n",
    "y_true = y_test.map(d_sent).reset_index()[\"sentiment\"]\n",
    "y_pred = pd.Series(clf.predict(X_test)).map(d_sent)"
   ]
  },
  {
   "cell_type": "code",
   "execution_count": 496,
   "metadata": {},
   "outputs": [
    {
     "name": "stdout",
     "output_type": "stream",
     "text": [
      "Macro-average accuracy: 28.5%\n",
      "Micro-average accuracy: 13.0%\n",
      "#####\n",
      "     sentiment  accuracy\n",
      "0      sadness       1.9\n",
      "1   enthusiasm       0.0\n",
      "2      neutral      47.3\n",
      "3        worry      66.3\n",
      "4     surprise       0.4\n",
      "5         love       4.6\n",
      "6          fun       0.0\n",
      "7         hate       0.0\n",
      "8    happiness      22.8\n",
      "9      boredom       0.0\n",
      "10      relief       0.0\n"
     ]
    }
   ],
   "source": [
    "accuracies = accuracy_score_per_class(y_true, y_pred, inv_d_sent)"
   ]
  },
  {
   "cell_type": "markdown",
   "metadata": {},
   "source": [
    "Even though the micro and macro average accuracies are improved only a bit, the algorithm seems to be more able to detect classes for which we have more data."
   ]
  },
  {
   "cell_type": "code",
   "execution_count": 498,
   "metadata": {},
   "outputs": [
    {
     "name": "stdout",
     "output_type": "stream",
     "text": [
      "                importance\n",
      "neg_score_rel     0.245374\n",
      "pos_score_rel     0.192427\n",
      "length            0.145127\n",
      "nb_words          0.132593\n",
      "nb_exc_marks      0.102270\n",
      "nb_dots           0.059793\n",
      "nb_negation       0.058053\n",
      "nb_quest_marks    0.035755\n",
      "nb_happy_emot     0.012388\n",
      "nb_emo_<3         0.008797\n"
     ]
    }
   ],
   "source": [
    "feature_importance = pd.DataFrame(clf.feature_importances_, index=X.columns, columns=[\"importance\"]).sort_values(by=\"importance\", ascending=False)\n",
    "print(feature_importance[:10])"
   ]
  },
  {
   "cell_type": "markdown",
   "metadata": {},
   "source": [
    "Let us know that neg_score and pos_score are good features."
   ]
  },
  {
   "cell_type": "code",
   "execution_count": 477,
   "metadata": {},
   "outputs": [],
   "source": [
    "#macro_precision_scorer = make_scorer(precision_score, average=\"macro\")\n",
    "#macro_recall_scorer = make_scorer(recall_score, average=\"macro\")\n",
    "#\n",
    "#accuracies = cross_val_score(clf, X, y, cv=skf.split(X,y))\n",
    "#precisions = cross_val_score(clf, X, y, cv=skf.split(X,y), scoring=macro_precision_scorer)\n",
    "#recalls = cross_val_score(clf, X, y, cv=skf.split(X,y), scoring=macro_recall_scorer)"
   ]
  },
  {
   "cell_type": "code",
   "execution_count": 478,
   "metadata": {
    "scrolled": true
   },
   "outputs": [],
   "source": [
    "#print(\"Accuracy: {:.2}\".format(accuracies.mean()))\n",
    "#print(\"Recall: {:.2}\".format(recalls.mean()))\n",
    "#print(\"Precision: {:.2}\".format(precisions.mean()))"
   ]
  },
  {
   "cell_type": "markdown",
   "metadata": {},
   "source": [
    "#### With Tweet2Vec features"
   ]
  },
  {
   "cell_type": "code",
   "execution_count": 479,
   "metadata": {},
   "outputs": [
    {
     "data": {
      "text/plain": [
       "(39173, 212)"
      ]
     },
     "execution_count": 479,
     "metadata": {},
     "output_type": "execute_result"
    }
   ],
   "source": [
    "X_t2v = X.join(t2v)\n",
    "X_t2v.shape"
   ]
  },
  {
   "cell_type": "code",
   "execution_count": 480,
   "metadata": {
    "collapsed": true
   },
   "outputs": [],
   "source": [
    "train, test = next(skf.split(X_t2v, y))\n",
    "\n",
    "X_train = X_t2v.loc[train]\n",
    "y_train = y[train].map(d_sent)\n",
    "\n",
    "X_test = X_t2v.loc[test]\n",
    "y_test = y[test].map(d_sent)"
   ]
  },
  {
   "cell_type": "code",
   "execution_count": 481,
   "metadata": {},
   "outputs": [],
   "source": [
    "clf.fit(X_train, y_train)\n",
    "y_true = y_test.reset_index()[\"sentiment\"]\n",
    "y_pred = pd.Series(clf.predict(X_test))"
   ]
  },
  {
   "cell_type": "code",
   "execution_count": 482,
   "metadata": {},
   "outputs": [
    {
     "name": "stdout",
     "output_type": "stream",
     "text": [
      "Macro-average accuracy: 28.3%\n",
      "Micro-average accuracy: 12.9%\n",
      "#####\n",
      "     sentiment  accuracy\n",
      "0      sadness       1.4\n",
      "1   enthusiasm       0.0\n",
      "2      neutral      43.8\n",
      "3        worry      71.2\n",
      "4     surprise       0.0\n",
      "5         love       6.9\n",
      "6          fun       0.0\n",
      "7         hate       0.0\n",
      "8    happiness      18.6\n",
      "9      boredom       0.0\n",
      "10      relief       0.0\n"
     ]
    }
   ],
   "source": [
    "accuracies = accuracy_score_per_class(y_true, y_pred, inv_d_sent)"
   ]
  },
  {
   "cell_type": "code",
   "execution_count": 483,
   "metadata": {},
   "outputs": [
    {
     "name": "stdout",
     "output_type": "stream",
     "text": [
      "               importance\n",
      "neg_score_rel    0.030666\n",
      "t2v_83           0.019633\n",
      "t2v_2            0.017413\n",
      "nb_words         0.014805\n",
      "pos_score_rel    0.012517\n",
      "length           0.012380\n",
      "t2v_13           0.011694\n",
      "t2v_48           0.011186\n",
      "t2v_31           0.010272\n",
      "t2v_130          0.009928\n"
     ]
    }
   ],
   "source": [
    "feature_importance = pd.DataFrame(clf.feature_importances_, index=X_t2v.columns, columns=[\"importance\"]).sort_values(by=\"importance\", ascending=False)\n",
    "print(feature_importance[:10])"
   ]
  },
  {
   "cell_type": "code",
   "execution_count": 384,
   "metadata": {},
   "outputs": [],
   "source": [
    "#accuracies = cross_val_score(clf, X_t2v, y, cv=skf.split(X_t2v,y))\n",
    "#precisions = cross_val_score(clf, X_t2v, y, cv=skf.split(X_t2v,y), scoring=macro_precision_scorer)\n",
    "#recalls = cross_val_score(clf, X_t2v, y, cv=skf.split(X_t2v,y), scoring=macro_recall_scorer)"
   ]
  },
  {
   "cell_type": "code",
   "execution_count": 385,
   "metadata": {},
   "outputs": [],
   "source": [
    "#print(\"Accuracy: {:.2}\".format(accuracies.mean()))\n",
    "#print(\"Recall: {:.2}\".format(recalls.mean()))\n",
    "#print(\"Precision: {:.2}\".format(precisions.mean()))"
   ]
  },
  {
   "cell_type": "markdown",
   "metadata": {},
   "source": [
    "### Neural Network\n",
    "Neural networks intent to check if there is a significant improvement."
   ]
  },
  {
   "cell_type": "code",
   "execution_count": 297,
   "metadata": {
    "collapsed": true
   },
   "outputs": [],
   "source": [
    "train, test = next(skf.split(X_t2v, y))\n",
    "\n",
    "X_train = X_t2v.loc[train]\n",
    "y_train = to_categorical(y[train].map(d_sent))\n",
    "\n",
    "X_test = X_t2v.loc[test]\n",
    "y_test = to_categorical(y[test].map(d_sent))"
   ]
  },
  {
   "cell_type": "code",
   "execution_count": 298,
   "metadata": {},
   "outputs": [
    {
     "name": "stdout",
     "output_type": "stream",
     "text": [
      "X_train shape: (29375, 212)\n",
      "y_train shape: (29375, 11)\n",
      "X_test shape: (9798, 212)\n",
      "y_test shape: (9798, 11)\n"
     ]
    }
   ],
   "source": [
    "print(\"X_train shape: {}\".format(X_train.shape))\n",
    "print(\"y_train shape: {}\".format(y_train.shape))\n",
    "print(\"X_test shape: {}\".format(X_test.shape))\n",
    "print(\"y_test shape: {}\".format(y_test.shape))"
   ]
  },
  {
   "cell_type": "code",
   "execution_count": 299,
   "metadata": {
    "collapsed": true
   },
   "outputs": [],
   "source": [
    "def two_hidden_layers(input_dim, output_dim, nb_n1, nb_n2, nb_n3):\n",
    "    model = Sequential()\n",
    "    model.add(Dense(nb_n1, input_dim=input_dim, activation=\"relu\"))\n",
    "    # Normalization layer\n",
    "    model.add(BatchNormalization())\n",
    "    # Prevent overfitting \n",
    "    model.add(Dropout(0.5))\n",
    "    model.add(Dense(nb_n2, input_dim=input_dim, activation=\"relu\"))\n",
    "    model.add(Dropout(0.5))\n",
    "    model.add(Dense(nb_n2, input_dim=input_dim, activation=\"relu\"))\n",
    "    model.add(Dropout(0.5))\n",
    "    model.add(Dense(output_dim, activation=\"softmax\"))\n",
    "\n",
    "    model.compile(loss='categorical_crossentropy',\n",
    "              optimizer=\"adam\",\n",
    "              metrics=['accuracy'])\n",
    "\n",
    "    return model"
   ]
  },
  {
   "cell_type": "code",
   "execution_count": 300,
   "metadata": {},
   "outputs": [
    {
     "name": "stdout",
     "output_type": "stream",
     "text": [
      "Train on 29375 samples, validate on 9798 samples\n",
      "Epoch 1/100\n",
      " - 1s - loss: 2.2949 - acc: 0.1942 - val_loss: 2.1127 - val_acc: 0.2424\n",
      "Epoch 2/100\n",
      " - 1s - loss: 2.1215 - acc: 0.2289 - val_loss: 2.0676 - val_acc: 0.2492\n",
      "Epoch 3/100\n",
      " - 1s - loss: 2.0761 - acc: 0.2466 - val_loss: 2.0593 - val_acc: 0.2588\n",
      "Epoch 4/100\n",
      " - 1s - loss: 2.0481 - acc: 0.2601 - val_loss: 2.0597 - val_acc: 0.2468\n",
      "Epoch 5/100\n",
      " - 1s - loss: 2.0347 - acc: 0.2683 - val_loss: 2.0585 - val_acc: 0.2511\n",
      "Epoch 6/100\n",
      " - 1s - loss: 2.0207 - acc: 0.2748 - val_loss: 2.0365 - val_acc: 0.2701\n",
      "Epoch 7/100\n",
      " - 1s - loss: 2.0150 - acc: 0.2769 - val_loss: 2.0289 - val_acc: 0.2672\n",
      "Epoch 8/100\n",
      " - 1s - loss: 2.0055 - acc: 0.2814 - val_loss: 2.0249 - val_acc: 0.2775\n",
      "Epoch 9/100\n",
      " - 1s - loss: 1.9987 - acc: 0.2863 - val_loss: 2.0216 - val_acc: 0.2694\n",
      "Epoch 10/100\n",
      " - 1s - loss: 1.9912 - acc: 0.2885 - val_loss: 2.0320 - val_acc: 0.2708\n",
      "Epoch 11/100\n",
      " - 1s - loss: 1.9924 - acc: 0.2881 - val_loss: 2.0372 - val_acc: 0.2617\n",
      "Epoch 12/100\n",
      " - 1s - loss: 1.9820 - acc: 0.2928 - val_loss: 2.0132 - val_acc: 0.2766\n",
      "Epoch 13/100\n",
      " - 1s - loss: 1.9786 - acc: 0.2954 - val_loss: 2.0036 - val_acc: 0.2822\n",
      "Epoch 14/100\n",
      " - 1s - loss: 1.9767 - acc: 0.2937 - val_loss: 2.0326 - val_acc: 0.2669\n",
      "Epoch 15/100\n",
      " - 1s - loss: 1.9693 - acc: 0.2995 - val_loss: 2.0055 - val_acc: 0.2810\n",
      "Epoch 16/100\n",
      " - 1s - loss: 1.9680 - acc: 0.2947 - val_loss: 2.0804 - val_acc: 0.2667\n",
      "Epoch 17/100\n",
      " - 1s - loss: 1.9653 - acc: 0.2991 - val_loss: 2.0009 - val_acc: 0.2858\n",
      "Epoch 18/100\n",
      " - 1s - loss: 1.9614 - acc: 0.3019 - val_loss: 1.9951 - val_acc: 0.2897\n",
      "Epoch 19/100\n",
      " - 1s - loss: 1.9636 - acc: 0.3004 - val_loss: 2.0077 - val_acc: 0.2841\n",
      "Epoch 20/100\n",
      " - 1s - loss: 1.9659 - acc: 0.3015 - val_loss: 2.0062 - val_acc: 0.2783\n",
      "Epoch 21/100\n",
      " - 1s - loss: 1.9578 - acc: 0.3009 - val_loss: 2.0002 - val_acc: 0.2834\n",
      "Epoch 22/100\n",
      " - 1s - loss: 1.9551 - acc: 0.3025 - val_loss: 2.0496 - val_acc: 0.2645\n",
      "Epoch 23/100\n",
      " - 1s - loss: 1.9565 - acc: 0.3062 - val_loss: 2.0675 - val_acc: 0.2701\n",
      "Epoch 24/100\n",
      " - 1s - loss: 1.9511 - acc: 0.3075 - val_loss: 2.0029 - val_acc: 0.2778\n",
      "Epoch 25/100\n",
      " - 1s - loss: 1.9481 - acc: 0.3079 - val_loss: 2.0296 - val_acc: 0.2735\n",
      "Epoch 26/100\n",
      " - 1s - loss: 1.9506 - acc: 0.3044 - val_loss: 2.0395 - val_acc: 0.2619\n",
      "Epoch 27/100\n",
      " - 1s - loss: 1.9473 - acc: 0.3080 - val_loss: 2.0047 - val_acc: 0.2822\n",
      "Epoch 28/100\n",
      " - 1s - loss: 1.9452 - acc: 0.3086 - val_loss: 1.9933 - val_acc: 0.2894\n",
      "Epoch 29/100\n",
      " - 1s - loss: 1.9430 - acc: 0.3094 - val_loss: 1.9915 - val_acc: 0.2923\n",
      "Epoch 30/100\n",
      " - 1s - loss: 1.9407 - acc: 0.3094 - val_loss: 1.9839 - val_acc: 0.2940\n",
      "Epoch 31/100\n",
      " - 1s - loss: 1.9405 - acc: 0.3086 - val_loss: 2.0008 - val_acc: 0.2856\n",
      "Epoch 32/100\n",
      " - 1s - loss: 1.9400 - acc: 0.3108 - val_loss: 2.0291 - val_acc: 0.2771\n",
      "Epoch 33/100\n",
      " - 1s - loss: 1.9416 - acc: 0.3079 - val_loss: 2.0525 - val_acc: 0.2726\n",
      "Epoch 34/100\n",
      " - 1s - loss: 1.9391 - acc: 0.3108 - val_loss: 2.0710 - val_acc: 0.2648\n",
      "Epoch 35/100\n",
      " - 1s - loss: 1.9389 - acc: 0.3142 - val_loss: 1.9841 - val_acc: 0.2931\n",
      "Epoch 36/100\n",
      " - 1s - loss: 1.9375 - acc: 0.3139 - val_loss: 2.0846 - val_acc: 0.2654\n",
      "Epoch 37/100\n",
      " - 1s - loss: 1.9366 - acc: 0.3134 - val_loss: 2.0030 - val_acc: 0.2882\n",
      "Epoch 38/100\n",
      " - 1s - loss: 1.9391 - acc: 0.3105 - val_loss: 1.9827 - val_acc: 0.2963\n",
      "Epoch 39/100\n",
      " - 1s - loss: 1.9356 - acc: 0.3129 - val_loss: 2.0069 - val_acc: 0.2859\n",
      "Epoch 40/100\n",
      " - 1s - loss: 1.9325 - acc: 0.3138 - val_loss: 1.9935 - val_acc: 0.2904\n",
      "Epoch 41/100\n",
      " - 1s - loss: 1.9328 - acc: 0.3156 - val_loss: 2.0009 - val_acc: 0.2915\n",
      "Epoch 42/100\n",
      " - 1s - loss: 1.9325 - acc: 0.3144 - val_loss: 1.9773 - val_acc: 0.2956\n",
      "Epoch 43/100\n",
      " - 1s - loss: 1.9304 - acc: 0.3177 - val_loss: 1.9878 - val_acc: 0.2872\n",
      "Epoch 44/100\n",
      " - 1s - loss: 1.9313 - acc: 0.3138 - val_loss: 1.9763 - val_acc: 0.3002\n",
      "Epoch 45/100\n",
      " - 1s - loss: 1.9305 - acc: 0.3185 - val_loss: 2.0162 - val_acc: 0.2898\n",
      "Epoch 46/100\n",
      " - 1s - loss: 1.9322 - acc: 0.3176 - val_loss: 1.9956 - val_acc: 0.2959\n",
      "Epoch 47/100\n",
      " - 1s - loss: 1.9297 - acc: 0.3183 - val_loss: 1.9961 - val_acc: 0.2948\n",
      "Epoch 48/100\n",
      " - 1s - loss: 1.9288 - acc: 0.3153 - val_loss: 1.9871 - val_acc: 0.2996\n",
      "Epoch 49/100\n",
      " - 1s - loss: 1.9310 - acc: 0.3169 - val_loss: 1.9705 - val_acc: 0.3029\n",
      "Epoch 50/100\n",
      " - 1s - loss: 1.9299 - acc: 0.3140 - val_loss: 2.0405 - val_acc: 0.2716\n",
      "Epoch 51/100\n",
      " - 1s - loss: 1.9311 - acc: 0.3128 - val_loss: 1.9960 - val_acc: 0.2927\n",
      "Epoch 52/100\n",
      " - 1s - loss: 1.9309 - acc: 0.3127 - val_loss: 1.9796 - val_acc: 0.3004\n",
      "Epoch 53/100\n",
      " - 1s - loss: 1.9322 - acc: 0.3167 - val_loss: 2.0435 - val_acc: 0.2705\n",
      "Epoch 54/100\n",
      " - 1s - loss: 1.9267 - acc: 0.3193 - val_loss: 1.9875 - val_acc: 0.2953\n",
      "Epoch 55/100\n",
      " - 1s - loss: 1.9281 - acc: 0.3181 - val_loss: 2.0032 - val_acc: 0.2842\n",
      "Epoch 56/100\n",
      " - 1s - loss: 1.9275 - acc: 0.3164 - val_loss: 1.9848 - val_acc: 0.2963\n",
      "Epoch 57/100\n",
      " - 1s - loss: 1.9296 - acc: 0.3156 - val_loss: 1.9888 - val_acc: 0.2965\n",
      "Epoch 58/100\n",
      " - 1s - loss: 1.9280 - acc: 0.3201 - val_loss: 1.9814 - val_acc: 0.2966\n",
      "Epoch 59/100\n",
      " - 1s - loss: 1.9309 - acc: 0.3156 - val_loss: 1.9754 - val_acc: 0.3029\n",
      "Epoch 60/100\n",
      " - 1s - loss: 1.9313 - acc: 0.3167 - val_loss: 1.9807 - val_acc: 0.3002\n",
      "Epoch 61/100\n",
      " - 1s - loss: 1.9284 - acc: 0.3161 - val_loss: 2.0116 - val_acc: 0.2870\n",
      "Epoch 62/100\n",
      " - 1s - loss: 1.9278 - acc: 0.3187 - val_loss: 1.9739 - val_acc: 0.2992\n",
      "Epoch 63/100\n",
      " - 1s - loss: 1.9272 - acc: 0.3164 - val_loss: 2.0169 - val_acc: 0.2831\n",
      "Epoch 64/100\n",
      " - 1s - loss: 1.9246 - acc: 0.3197 - val_loss: 1.9693 - val_acc: 0.3031\n",
      "Epoch 65/100\n",
      " - 1s - loss: 1.9256 - acc: 0.3189 - val_loss: 1.9743 - val_acc: 0.3011\n",
      "Epoch 66/100\n",
      " - 1s - loss: 1.9248 - acc: 0.3164 - val_loss: 1.9782 - val_acc: 0.2982\n",
      "Epoch 67/100\n",
      " - 1s - loss: 1.9230 - acc: 0.3183 - val_loss: 2.0259 - val_acc: 0.2862\n",
      "Epoch 68/100\n",
      " - 1s - loss: 1.9250 - acc: 0.3175 - val_loss: 1.9799 - val_acc: 0.3010\n",
      "Epoch 69/100\n",
      " - 1s - loss: 1.9245 - acc: 0.3200 - val_loss: 1.9796 - val_acc: 0.2974\n",
      "Epoch 70/100\n",
      " - 1s - loss: 1.9250 - acc: 0.3199 - val_loss: 2.0163 - val_acc: 0.2895\n",
      "Epoch 71/100\n",
      " - 1s - loss: 1.9229 - acc: 0.3217 - val_loss: 2.0022 - val_acc: 0.2909\n",
      "Epoch 72/100\n",
      " - 1s - loss: 1.9255 - acc: 0.3189 - val_loss: 1.9923 - val_acc: 0.2932\n",
      "Epoch 73/100\n",
      " - 1s - loss: 1.9264 - acc: 0.3188 - val_loss: 1.9923 - val_acc: 0.2938\n",
      "Epoch 74/100\n",
      " - 1s - loss: 1.9231 - acc: 0.3192 - val_loss: 2.0422 - val_acc: 0.2745\n",
      "Epoch 75/100\n",
      " - 1s - loss: 1.9241 - acc: 0.3200 - val_loss: 2.0351 - val_acc: 0.2846\n",
      "Epoch 76/100\n",
      " - 1s - loss: 1.9247 - acc: 0.3183 - val_loss: 2.0932 - val_acc: 0.2706\n",
      "Epoch 77/100\n",
      " - 1s - loss: 1.9240 - acc: 0.3182 - val_loss: 1.9999 - val_acc: 0.2921\n",
      "Epoch 78/100\n",
      " - 1s - loss: 1.9229 - acc: 0.3222 - val_loss: 2.0513 - val_acc: 0.2796\n",
      "Epoch 79/100\n",
      " - 1s - loss: 1.9215 - acc: 0.3186 - val_loss: 1.9920 - val_acc: 0.2931\n",
      "Epoch 80/100\n",
      " - 1s - loss: 1.9209 - acc: 0.3210 - val_loss: 1.9873 - val_acc: 0.2981\n",
      "Epoch 81/100\n",
      " - 1s - loss: 1.9190 - acc: 0.3250 - val_loss: 1.9756 - val_acc: 0.3010\n",
      "Epoch 82/100\n",
      " - 1s - loss: 1.9237 - acc: 0.3193 - val_loss: 1.9787 - val_acc: 0.3018\n",
      "Epoch 83/100\n",
      " - 1s - loss: 1.9210 - acc: 0.3224 - val_loss: 1.9850 - val_acc: 0.2989\n",
      "Epoch 84/100\n",
      " - 1s - loss: 1.9193 - acc: 0.3203 - val_loss: 1.9881 - val_acc: 0.2978\n",
      "Epoch 85/100\n",
      " - 1s - loss: 1.9218 - acc: 0.3221 - val_loss: 1.9871 - val_acc: 0.2950\n",
      "Epoch 86/100\n",
      " - 1s - loss: 1.9166 - acc: 0.3231 - val_loss: 2.0245 - val_acc: 0.2875\n",
      "Epoch 87/100\n",
      " - 1s - loss: 1.9191 - acc: 0.3224 - val_loss: 2.0299 - val_acc: 0.2860\n",
      "Epoch 88/100\n",
      " - 1s - loss: 1.9206 - acc: 0.3197 - val_loss: 1.9973 - val_acc: 0.2943\n",
      "Epoch 89/100\n",
      " - 1s - loss: 1.9187 - acc: 0.3212 - val_loss: 1.9757 - val_acc: 0.2990\n",
      "Epoch 90/100\n",
      " - 1s - loss: 1.9179 - acc: 0.3230 - val_loss: 2.0230 - val_acc: 0.2885\n",
      "Epoch 91/100\n",
      " - 2s - loss: 1.9185 - acc: 0.3224 - val_loss: 2.0140 - val_acc: 0.2895\n",
      "Epoch 92/100\n",
      " - 2s - loss: 1.9148 - acc: 0.3241 - val_loss: 2.0260 - val_acc: 0.2882\n",
      "Epoch 93/100\n",
      " - 1s - loss: 1.9213 - acc: 0.3217 - val_loss: 1.9907 - val_acc: 0.2939\n",
      "Epoch 94/100\n",
      " - 1s - loss: 1.9166 - acc: 0.3214 - val_loss: 1.9746 - val_acc: 0.3044\n",
      "Epoch 95/100\n",
      " - 1s - loss: 1.9156 - acc: 0.3244 - val_loss: 1.9746 - val_acc: 0.2985\n",
      "Epoch 96/100\n",
      " - 1s - loss: 1.9192 - acc: 0.3226 - val_loss: 1.9766 - val_acc: 0.2927\n"
     ]
    },
    {
     "name": "stdout",
     "output_type": "stream",
     "text": [
      "Epoch 97/100\n",
      " - 1s - loss: 1.9186 - acc: 0.3193 - val_loss: 2.0160 - val_acc: 0.2863\n",
      "Epoch 98/100\n",
      " - 1s - loss: 1.9150 - acc: 0.3244 - val_loss: 1.9912 - val_acc: 0.2926\n",
      "Epoch 99/100\n",
      " - 1s - loss: 1.9148 - acc: 0.3253 - val_loss: 2.0138 - val_acc: 0.2890\n",
      "Epoch 100/100\n",
      " - 1s - loss: 1.9165 - acc: 0.3228 - val_loss: 1.9645 - val_acc: 0.3049\n"
     ]
    }
   ],
   "source": [
    "model = two_hidden_layers(X_train.shape[1], y_train.shape[1], 100, 50, 25)\n",
    "history = model.fit(X_train, y_train,\n",
    "                    batch_size=126, \n",
    "                    validation_data = (X_test, y_test),\n",
    "                    epochs=100, \n",
    "                    verbose=2)"
   ]
  },
  {
   "cell_type": "markdown",
   "metadata": {},
   "source": [
    "The macro-average accuracy is around 29%."
   ]
  },
  {
   "cell_type": "code",
   "execution_count": 301,
   "metadata": {},
   "outputs": [
    {
     "data": {
      "image/png": "[encoded data removed]",
      "text/plain": [
       "<matplotlib.figure.Figure at 0x1c468c13c8>"
      ]
     },
     "metadata": {},
     "output_type": "display_data"
    }
   ],
   "source": [
    "# Summarize history for loss\n",
    "plt.plot(history.history[\"acc\"])\n",
    "plt.plot(history.history[\"val_acc\"])\n",
    "plt.title(\"model loss\")\n",
    "plt.ylabel(\"accuracy\")\n",
    "plt.xlabel(\"epoch\")\n",
    "plt.ylim((0.2,0.4))\n",
    "plt.legend([\"train\", \"test\"], loc=\"upper right\")\n",
    "plt.show()"
   ]
  },
  {
   "cell_type": "markdown",
   "metadata": {
    "collapsed": true
   },
   "source": [
    "## Next steps"
   ]
  },
  {
   "cell_type": "markdown",
   "metadata": {
    "collapsed": true
   },
   "source": [
    "Overall, the performance of the raw multiclass classification problem is **bad**. It is an ambitious problem that require more time to solve. However, there are some encouraging signs. \n",
    "1. Tree-based models show that pos_score and neg_score are relevant features for the problem. But there are flaws on which we can work:\n",
    "    - easy: stemming as it is done makes it harder to match words of the tweet and the SentiWordNet\n",
    "    - hard: it is obvious that we would like to get more granular scores (not only posive and negative, but also hate, anger..). Could be interesting to spend time on building such lexicon.\n",
    "2. The model main difficulty is to detect relevant signs for rare classes. It is understandable and to fix that:\n",
    "    - ideally, gather more data corresponding to rare labels\n",
    "    - train model on a dataset that is constitued of evenly distributed labels\n",
    "3. The word2vec aggregating part is not optimal. It could be mixed with TF-IDF to give weights to each word when averaging\n",
    "    \n",
    "Also, the final business application may not require as much granularity in the labels. A positive/negative/objective classification could for example be sufficient. "
   ]
  }
 ],
 "metadata": {
  "kernelspec": {
   "display_name": "Python 3",
   "language": "python",
   "name": "python3"
  },
  "language_info": {
   "codemirror_mode": {
    "name": "ipython",
    "version": 3
   },
   "file_extension": ".py",
   "mimetype": "text/x-python",
   "name": "python",
   "nbconvert_exporter": "python",
   "pygments_lexer": "ipython3",
   "version": "3.6.3"
  },
  "toc": {
   "nav_menu": {},
   "number_sections": true,
   "sideBar": true,
   "skip_h1_title": true,
   "title_cell": "Table of Contents",
   "title_sidebar": "Contents",
   "toc_cell": true,
   "toc_position": {},
   "toc_section_display": true,
   "toc_window_display": false
  }
 },
 "nbformat": 4,
 "nbformat_minor": 2
}
